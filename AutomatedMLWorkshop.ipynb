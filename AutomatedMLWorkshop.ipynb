{
  "cells": [
    {
      "metadata": {
        "collapsed": true
      },
      "cell_type": "markdown",
      "source": "Copyright (c) Microsoft Corporation. All rights reserved.\n\nLicensed under the MIT License."
    },
    {
      "metadata": {},
      "cell_type": "markdown",
      "source": "# [Automated Machine Learning](https://docs.microsoft.com/en-us/azure/machine-learning/service/concept-automated-ml)\nIn this example, we show how automated ML can be used for energy demand forecasting. This notebook is for demonstration purpose only.\n<b> Automated ML Feedback : AskAutomatedML@Microsoft.com <b/>\n\n## Contents\n1. [How to use Jupyter notebooks](# How to use Jupyter Notebook)\n2. [Scenario](#Scenario)\n3. [Data](#Data)\n4. [Train](#Train)\n5. [Deploy](#Deploy)\n\n\n    \n### Note : Pay attention to <font color =\"red\"> Red Text </font> for \"Action Required\" in Cells "
    },
    {
      "metadata": {},
      "cell_type": "markdown",
      "source": "# How to use Jupyter Notebook\nIn this workshop we will be using Jupyter notebooks hosted by Azure Notebooks Service. If you are familiar with Jupyter, skip this. If not, here are a few tips\n\n>* Select the Kernet Python 3.6\n>* Jupyter has 'cells'. When you click on anywhere in the notebook, the cell containing the pointer gets selected.\n>* To run or execute the code in the cell - on the top menu select Cell->Run Cells. Alternatively you can use 'Shift+Enter' keys.\n>* To Edit cell - Double click the cell\n>* When you run a cell, the pointer pointing just outside on the left side of the cell will change from [] to [*] (inserts * in the square brackets). When the cell finished executing the '*' changes to a number.\n>* If the notebook or cell hangs, select from the top menu Kernel->Restart & Clear output for the entire notebook or Kernel->Interrupt for just that cell. Restart will take a few seconds and you would need to reexecute all the cells.\n>* In Jupyter you do not need to execute in sequence. You can go back to a previous cell that was already executed and execute again. As long as there are no dependencies that messes up the code in that particular cell, you will be fine."
    },
    {
      "metadata": {},
      "cell_type": "markdown",
      "source": "# Scenario:\n\nThis scenario focuses on energy demand forecasting where the __goal is to predict the future load on an energy grid__. It is a critical business operation for companies in the energy sector as operators need to maintain the fine balance between the energy consumed on a grid and the energy supplied to it. Too much power supplied to the grid can result in waste of energy or technical faults. However, if too little power is supplied it can lead to blackouts, leaving customers without power. Typically, grid operators can take short-term decisions to manage energy supply to the grid and keep the load in balance. An accurate short-term forecast of energy demand is therefore essential for the operator to make these decisions with confidence.\n\nThis scenario details the construction of a machine learning energy demand forecasting solution. The solution is trained on a public dataset from the New York Independent System Operator (NYISO), which operates the power grid for New York State. The dataset includes hourly power demand data for New York City over a period of five years. An additional dataset containing hourly weather conditions in New York City over the same time period was taken from darksky.net.\n\nIn this notebook you will perform\n\n1. Basic Setup: You would need to create an Azure Machine Learning workspace to start with. You can do that in Azure Portal or through SDK. The workspace can be shared with your team mates to collaborate on the scripts. You would create an workspace one time and run multiple experiments and build many models.\n\n2. Prepare the data: Prepare the data for training.\n\n3. Train an automated ML model: We will use Azure Notebooks to train models with automated ML generated pipeline parameters.\n\n4. Explore the results Inspect various way to get all the models built, Many different model metrics\n\n5. Testing the fitted model with some test data\n\n6. Register the model for deployment and get ready for deployment into Azure Machine Learning model management and deployment hosting"
    },
    {
      "metadata": {},
      "cell_type": "markdown",
      "source": "# Basic Setiup\nPre requisites required for configuring your notebook to run Automated ML, setting up your Azure Learning Workspace for the experiment and creating your config.json."
    },
    {
      "metadata": {},
      "cell_type": "markdown",
      "source": "## Install Additional Packages\nThis is validation step to ensure you have the latest packages to run the exeripment"
    },
    {
      "metadata": {
        "trusted": true
      },
      "cell_type": "code",
      "source": "# auto ml core packages update\n!pip install --upgrade azureml-sdk[automl]",
      "execution_count": 1,
      "outputs": [
        {
          "output_type": "stream",
          "text": "Requirement already up-to-date: azureml-sdk[automl] in /home/nbuser/anaconda3_501/lib/python3.6/site-packages (1.0.17)\nRequirement already satisfied, skipping upgrade: azureml-train==1.0.17.* in /home/nbuser/anaconda3_501/lib/python3.6/site-packages (from azureml-sdk[automl]) (1.0.17)\nRequirement already satisfied, skipping upgrade: azureml-pipeline==1.0.17.* in /home/nbuser/anaconda3_501/lib/python3.6/site-packages (from azureml-sdk[automl]) (1.0.17)\nRequirement already satisfied, skipping upgrade: azureml-core==1.0.17.* in /home/nbuser/anaconda3_501/lib/python3.6/site-packages (from azureml-sdk[automl]) (1.0.17.1)\nRequirement already satisfied, skipping upgrade: azureml-train-automl==1.0.17.*; extra == \"automl\" in /home/nbuser/anaconda3_501/lib/python3.6/site-packages (from azureml-sdk[automl]) (1.0.17.1)\nRequirement already satisfied, skipping upgrade: azureml-train-core==1.0.17.* in /home/nbuser/anaconda3_501/lib/python3.6/site-packages (from azureml-train==1.0.17.*->azureml-sdk[automl]) (1.0.17)\nRequirement already satisfied, skipping upgrade: azureml-pipeline-core==1.0.17.* in /home/nbuser/anaconda3_501/lib/python3.6/site-packages (from azureml-pipeline==1.0.17.*->azureml-sdk[automl]) (1.0.17)\nRequirement already satisfied, skipping upgrade: azureml-pipeline-steps==1.0.17.* in /home/nbuser/anaconda3_501/lib/python3.6/site-packages (from azureml-pipeline==1.0.17.*->azureml-sdk[automl]) (1.0.17)\nRequirement already satisfied, skipping upgrade: azure-mgmt-authorization>=0.40.0 in /home/nbuser/anaconda3_501/lib/python3.6/site-packages (from azureml-core==1.0.17.*->azureml-sdk[automl]) (0.50.0)\nRequirement already satisfied, skipping upgrade: pyyaml>=3.13 in /home/nbuser/anaconda3_501/lib/python3.6/site-packages (from azureml-core==1.0.17.*->azureml-sdk[automl]) (3.13)\nRequirement already satisfied, skipping upgrade: msrestazure>=0.4.33 in /home/nbuser/anaconda3_501/lib/python3.6/site-packages (from azureml-core==1.0.17.*->azureml-sdk[automl]) (0.6.0)\nRequirement already satisfied, skipping upgrade: python-dateutil>=2.7.3 in /home/nbuser/anaconda3_501/lib/python3.6/site-packages (from azureml-core==1.0.17.*->azureml-sdk[automl]) (2.7.5)\nRequirement already satisfied, skipping upgrade: azure-mgmt-storage>=1.5.0 in /home/nbuser/anaconda3_501/lib/python3.6/site-packages (from azureml-core==1.0.17.*->azureml-sdk[automl]) (2.0.0)\nRequirement already satisfied, skipping upgrade: jmespath in /home/nbuser/anaconda3_501/lib/python3.6/site-packages (from azureml-core==1.0.17.*->azureml-sdk[automl]) (0.9.3)\nRequirement already satisfied, skipping upgrade: backports.tempfile in /home/nbuser/anaconda3_501/lib/python3.6/site-packages (from azureml-core==1.0.17.*->azureml-sdk[automl]) (1.0)\nRequirement already satisfied, skipping upgrade: pathspec in /home/nbuser/anaconda3_501/lib/python3.6/site-packages (from azureml-core==1.0.17.*->azureml-sdk[automl]) (0.5.9)\nRequirement already satisfied, skipping upgrade: six>=1.11.0 in /home/nbuser/anaconda3_501/lib/python3.6/site-packages (from azureml-core==1.0.17.*->azureml-sdk[automl]) (1.11.0)\nRequirement already satisfied, skipping upgrade: PyJWT in /home/nbuser/anaconda3_501/lib/python3.6/site-packages (from azureml-core==1.0.17.*->azureml-sdk[automl]) (1.7.1)\nRequirement already satisfied, skipping upgrade: adal>=1.2.0 in /home/nbuser/anaconda3_501/lib/python3.6/site-packages (from azureml-core==1.0.17.*->azureml-sdk[automl]) (1.2.1)\nRequirement already satisfied, skipping upgrade: pyopenssl in /home/nbuser/anaconda3_501/lib/python3.6/site-packages (from azureml-core==1.0.17.*->azureml-sdk[automl]) (18.0.0)\nRequirement already satisfied, skipping upgrade: azure-common>=1.1.12 in /home/nbuser/anaconda3_501/lib/python3.6/site-packages (from azureml-core==1.0.17.*->azureml-sdk[automl]) (1.1.18)\nRequirement already satisfied, skipping upgrade: msrest>=0.5.1 in /home/nbuser/anaconda3_501/lib/python3.6/site-packages (from azureml-core==1.0.17.*->azureml-sdk[automl]) (0.6.4)\nRequirement already satisfied, skipping upgrade: docker in /home/nbuser/anaconda3_501/lib/python3.6/site-packages (from azureml-core==1.0.17.*->azureml-sdk[automl]) (3.7.0)\nRequirement already satisfied, skipping upgrade: pytz in /home/nbuser/anaconda3_501/lib/python3.6/site-packages (from azureml-core==1.0.17.*->azureml-sdk[automl]) (2018.7)\nRequirement already satisfied, skipping upgrade: cryptography!=1.9,!=2.0.*,!=2.1.*,!=2.2.*,<2.6 in /home/nbuser/anaconda3_501/lib/python3.6/site-packages (from azureml-core==1.0.17.*->azureml-sdk[automl]) (2.3.1)\nRequirement already satisfied, skipping upgrade: azure-mgmt-containerregistry>=2.0.0 in /home/nbuser/anaconda3_501/lib/python3.6/site-packages (from azureml-core==1.0.17.*->azureml-sdk[automl]) (2.7.0)\nRequirement already satisfied, skipping upgrade: requests>=2.19.1 in /home/nbuser/anaconda3_501/lib/python3.6/site-packages (from azureml-core==1.0.17.*->azureml-sdk[automl]) (2.21.0)\nRequirement already satisfied, skipping upgrade: jsonpickle in /home/nbuser/anaconda3_501/lib/python3.6/site-packages (from azureml-core==1.0.17.*->azureml-sdk[automl]) (1.1)\nRequirement already satisfied, skipping upgrade: contextlib2 in /home/nbuser/anaconda3_501/lib/python3.6/site-packages (from azureml-core==1.0.17.*->azureml-sdk[automl]) (0.5.5)\nRequirement already satisfied, skipping upgrade: paramiko>=2.0.8 in /home/nbuser/anaconda3_501/lib/python3.6/site-packages (from azureml-core==1.0.17.*->azureml-sdk[automl]) (2.4.2)\nRequirement already satisfied, skipping upgrade: ruamel.yaml<=0.15.51,>=0.15.35 in /home/nbuser/anaconda3_501/lib/python3.6/site-packages (from azureml-core==1.0.17.*->azureml-sdk[automl]) (0.15.51)\nRequirement already satisfied, skipping upgrade: azure-mgmt-keyvault>=0.40.0 in /home/nbuser/anaconda3_501/lib/python3.6/site-packages (from azureml-core==1.0.17.*->azureml-sdk[automl]) (1.1.0)\nRequirement already satisfied, skipping upgrade: azure-graphrbac>=0.40.0 in /home/nbuser/anaconda3_501/lib/python3.6/site-packages (from azureml-core==1.0.17.*->azureml-sdk[automl]) (0.40.0)\nRequirement already satisfied, skipping upgrade: ndg-httpsclient in /home/nbuser/anaconda3_501/lib/python3.6/site-packages (from azureml-core==1.0.17.*->azureml-sdk[automl]) (0.5.1)\nRequirement already satisfied, skipping upgrade: azure-mgmt-resource>=1.2.1 in /home/nbuser/anaconda3_501/lib/python3.6/site-packages (from azureml-core==1.0.17.*->azureml-sdk[automl]) (2.0.0)\nRequirement already satisfied, skipping upgrade: urllib3>=1.23 in /home/nbuser/anaconda3_501/lib/python3.6/site-packages (from azureml-core==1.0.17.*->azureml-sdk[automl]) (1.23)\nRequirement already satisfied, skipping upgrade: SecretStorage in /home/nbuser/anaconda3_501/lib/python3.6/site-packages (from azureml-core==1.0.17.*->azureml-sdk[automl]) (2.3.1)\nRequirement already satisfied, skipping upgrade: lightgbm<=2.2.1,>=2.0.11 in /home/nbuser/anaconda3_501/lib/python3.6/site-packages (from azureml-train-automl==1.0.17.*; extra == \"automl\"->azureml-sdk[automl]) (2.2.1)\nRequirement already satisfied, skipping upgrade: numpy<1.15.0,>=1.11.0 in /home/nbuser/anaconda3_501/lib/python3.6/site-packages (from azureml-train-automl==1.0.17.*; extra == \"automl\"->azureml-sdk[automl]) (1.14.6)\nRequirement already satisfied, skipping upgrade: resource>=0.1.8 in /home/nbuser/anaconda3_501/lib/python3.6/site-packages (from azureml-train-automl==1.0.17.*; extra == \"automl\"->azureml-sdk[automl]) (0.2.1)\nRequirement already satisfied, skipping upgrade: scikit-learn==0.19.1 in /home/nbuser/anaconda3_501/lib/python3.6/site-packages (from azureml-train-automl==1.0.17.*; extra == \"automl\"->azureml-sdk[automl]) (0.19.1)\nRequirement already satisfied, skipping upgrade: dill>=0.2.8 in /home/nbuser/anaconda3_501/lib/python3.6/site-packages (from azureml-train-automl==1.0.17.*; extra == \"automl\"->azureml-sdk[automl]) (0.2.9)\nRequirement already satisfied, skipping upgrade: sklearn-pandas<=1.7.0,>=1.4.0 in /home/nbuser/anaconda3_501/lib/python3.6/site-packages (from azureml-train-automl==1.0.17.*; extra == \"automl\"->azureml-sdk[automl]) (1.7.0)\nRequirement already satisfied, skipping upgrade: tensorflow<=1.12.0,>=1.10.0 in /home/nbuser/anaconda3_501/lib/python3.6/site-packages (from azureml-train-automl==1.0.17.*; extra == \"automl\"->azureml-sdk[automl]) (1.12.0)\n",
          "name": "stdout"
        },
        {
          "output_type": "stream",
          "text": "Requirement already satisfied, skipping upgrade: azureml-dataprep<1.1.0,>=0.5.2 in /home/nbuser/anaconda3_501/lib/python3.6/site-packages (from azureml-train-automl==1.0.17.*; extra == \"automl\"->azureml-sdk[automl]) (1.0.12)\nRequirement already satisfied, skipping upgrade: pandas<=0.23.4,>=0.21.0 in /home/nbuser/anaconda3_501/lib/python3.6/site-packages (from azureml-train-automl==1.0.17.*; extra == \"automl\"->azureml-sdk[automl]) (0.22.0)\nRequirement already satisfied, skipping upgrade: azureml-telemetry==1.0.17.* in /home/nbuser/anaconda3_501/lib/python3.6/site-packages (from azureml-train-automl==1.0.17.*; extra == \"automl\"->azureml-sdk[automl]) (1.0.17)\nRequirement already satisfied, skipping upgrade: scipy<=1.1.0,>=1.0.0 in /home/nbuser/anaconda3_501/lib/python3.6/site-packages (from azureml-train-automl==1.0.17.*; extra == \"automl\"->azureml-sdk[automl]) (1.1.0)\nRequirement already satisfied, skipping upgrade: wheel==0.30.0 in /home/nbuser/anaconda3_501/lib/python3.6/site-packages (from azureml-train-automl==1.0.17.*; extra == \"automl\"->azureml-sdk[automl]) (0.30.0)\nRequirement already satisfied, skipping upgrade: azureml-train-restclients-hyperdrive==1.0.17.* in /home/nbuser/anaconda3_501/lib/python3.6/site-packages (from azureml-train-core==1.0.17.*->azureml-train==1.0.17.*->azureml-sdk[automl]) (1.0.17)\nRequirement already satisfied, skipping upgrade: certifi in /home/nbuser/anaconda3_501/lib/python3.6/site-packages (from azureml-pipeline-steps==1.0.17.*->azureml-pipeline==1.0.17.*->azureml-sdk[automl]) (2018.10.15)\nRequirement already satisfied, skipping upgrade: azure-mgmt-nspkg>=2.0.0 in /home/nbuser/anaconda3_501/lib/python3.6/site-packages (from azure-mgmt-authorization>=0.40.0->azureml-core==1.0.17.*->azureml-sdk[automl]) (3.0.2)\nRequirement already satisfied, skipping upgrade: backports.weakref in /home/nbuser/anaconda3_501/lib/python3.6/site-packages (from backports.tempfile->azureml-core==1.0.17.*->azureml-sdk[automl]) (1.0rc1)\nRequirement already satisfied, skipping upgrade: requests-oauthlib>=0.5.0 in /home/nbuser/anaconda3_501/lib/python3.6/site-packages (from msrest>=0.5.1->azureml-core==1.0.17.*->azureml-sdk[automl]) (1.2.0)\nRequirement already satisfied, skipping upgrade: isodate>=0.6.0 in /home/nbuser/anaconda3_501/lib/python3.6/site-packages (from msrest>=0.5.1->azureml-core==1.0.17.*->azureml-sdk[automl]) (0.6.0)\nRequirement already satisfied, skipping upgrade: docker-pycreds>=0.4.0 in /home/nbuser/anaconda3_501/lib/python3.6/site-packages (from docker->azureml-core==1.0.17.*->azureml-sdk[automl]) (0.4.0)\nRequirement already satisfied, skipping upgrade: websocket-client>=0.32.0 in /home/nbuser/anaconda3_501/lib/python3.6/site-packages (from docker->azureml-core==1.0.17.*->azureml-sdk[automl]) (0.54.0)\nRequirement already satisfied, skipping upgrade: idna>=2.1 in /home/nbuser/anaconda3_501/lib/python3.6/site-packages (from cryptography!=1.9,!=2.0.*,!=2.1.*,!=2.2.*,<2.6->azureml-core==1.0.17.*->azureml-sdk[automl]) (2.7)\nRequirement already satisfied, skipping upgrade: asn1crypto>=0.21.0 in /home/nbuser/anaconda3_501/lib/python3.6/site-packages (from cryptography!=1.9,!=2.0.*,!=2.1.*,!=2.2.*,<2.6->azureml-core==1.0.17.*->azureml-sdk[automl]) (0.24.0)\nRequirement already satisfied, skipping upgrade: cffi!=1.11.3,>=1.7 in /home/nbuser/anaconda3_501/lib/python3.6/site-packages (from cryptography!=1.9,!=2.0.*,!=2.1.*,!=2.2.*,<2.6->azureml-core==1.0.17.*->azureml-sdk[automl]) (1.11.5)\nRequirement already satisfied, skipping upgrade: chardet<3.1.0,>=3.0.2 in /home/nbuser/anaconda3_501/lib/python3.6/site-packages (from requests>=2.19.1->azureml-core==1.0.17.*->azureml-sdk[automl]) (3.0.4)\nRequirement already satisfied, skipping upgrade: pynacl>=1.0.1 in /home/nbuser/anaconda3_501/lib/python3.6/site-packages (from paramiko>=2.0.8->azureml-core==1.0.17.*->azureml-sdk[automl]) (1.3.0)\nRequirement already satisfied, skipping upgrade: pyasn1>=0.1.7 in /home/nbuser/anaconda3_501/lib/python3.6/site-packages (from paramiko>=2.0.8->azureml-core==1.0.17.*->azureml-sdk[automl]) (0.4.4)\nRequirement already satisfied, skipping upgrade: bcrypt>=3.1.3 in /home/nbuser/anaconda3_501/lib/python3.6/site-packages (from paramiko>=2.0.8->azureml-core==1.0.17.*->azureml-sdk[automl]) (3.1.6)\nRequirement already satisfied, skipping upgrade: azure-nspkg>=2.0.0 in /home/nbuser/anaconda3_501/lib/python3.6/site-packages (from azure-graphrbac>=0.40.0->azureml-core==1.0.17.*->azureml-sdk[automl]) (3.0.2)\nRequirement already satisfied, skipping upgrade: JsonSir>=0.0.2 in /home/nbuser/anaconda3_501/lib/python3.6/site-packages (from resource>=0.1.8->azureml-train-automl==1.0.17.*; extra == \"automl\"->azureml-sdk[automl]) (0.0.2)\nRequirement already satisfied, skipping upgrade: python-easyconfig>=0.1.0 in /home/nbuser/anaconda3_501/lib/python3.6/site-packages (from resource>=0.1.8->azureml-train-automl==1.0.17.*; extra == \"automl\"->azureml-sdk[automl]) (0.1.7)\nRequirement already satisfied, skipping upgrade: JsonForm>=0.0.2 in /home/nbuser/anaconda3_501/lib/python3.6/site-packages (from resource>=0.1.8->azureml-train-automl==1.0.17.*; extra == \"automl\"->azureml-sdk[automl]) (0.0.2)\nRequirement already satisfied, skipping upgrade: tensorboard<1.13.0,>=1.12.0 in /home/nbuser/anaconda3_501/lib/python3.6/site-packages (from tensorflow<=1.12.0,>=1.10.0->azureml-train-automl==1.0.17.*; extra == \"automl\"->azureml-sdk[automl]) (1.12.2)\nRequirement already satisfied, skipping upgrade: protobuf>=3.6.1 in /home/nbuser/anaconda3_501/lib/python3.6/site-packages (from tensorflow<=1.12.0,>=1.10.0->azureml-train-automl==1.0.17.*; extra == \"automl\"->azureml-sdk[automl]) (3.6.1)\nRequirement already satisfied, skipping upgrade: gast>=0.2.0 in /home/nbuser/anaconda3_501/lib/python3.6/site-packages (from tensorflow<=1.12.0,>=1.10.0->azureml-train-automl==1.0.17.*; extra == \"automl\"->azureml-sdk[automl]) (0.2.2)\nRequirement already satisfied, skipping upgrade: keras-preprocessing>=1.0.5 in /home/nbuser/anaconda3_501/lib/python3.6/site-packages (from tensorflow<=1.12.0,>=1.10.0->azureml-train-automl==1.0.17.*; extra == \"automl\"->azureml-sdk[automl]) (1.0.9)\nRequirement already satisfied, skipping upgrade: astor>=0.6.0 in /home/nbuser/anaconda3_501/lib/python3.6/site-packages (from tensorflow<=1.12.0,>=1.10.0->azureml-train-automl==1.0.17.*; extra == \"automl\"->azureml-sdk[automl]) (0.7.1)\nRequirement already satisfied, skipping upgrade: absl-py>=0.1.6 in /home/nbuser/anaconda3_501/lib/python3.6/site-packages (from tensorflow<=1.12.0,>=1.10.0->azureml-train-automl==1.0.17.*; extra == \"automl\"->azureml-sdk[automl]) (0.7.0)\nRequirement already satisfied, skipping upgrade: keras-applications>=1.0.6 in /home/nbuser/anaconda3_501/lib/python3.6/site-packages (from tensorflow<=1.12.0,>=1.10.0->azureml-train-automl==1.0.17.*; extra == \"automl\"->azureml-sdk[automl]) (1.0.7)\nRequirement already satisfied, skipping upgrade: grpcio>=1.8.6 in /home/nbuser/anaconda3_501/lib/python3.6/site-packages (from tensorflow<=1.12.0,>=1.10.0->azureml-train-automl==1.0.17.*; extra == \"automl\"->azureml-sdk[automl]) (1.18.0)\nRequirement already satisfied, skipping upgrade: termcolor>=1.1.0 in /home/nbuser/anaconda3_501/lib/python3.6/site-packages (from tensorflow<=1.12.0,>=1.10.0->azureml-train-automl==1.0.17.*; extra == \"automl\"->azureml-sdk[automl]) (1.1.0)\nRequirement already satisfied, skipping upgrade: dotnetcore2==2.1.7 in /home/nbuser/anaconda3_501/lib/python3.6/site-packages (from azureml-dataprep<1.1.0,>=0.5.2->azureml-train-automl==1.0.17.*; extra == \"automl\"->azureml-sdk[automl]) (2.1.7)\nRequirement already satisfied, skipping upgrade: azureml-dataprep-native<12.0.0,>=11.2.1 in /home/nbuser/anaconda3_501/lib/python3.6/site-packages (from azureml-dataprep<1.1.0,>=0.5.2->azureml-train-automl==1.0.17.*; extra == \"automl\"->azureml-sdk[automl]) (11.2.1)\nRequirement already satisfied, skipping upgrade: applicationinsights in /home/nbuser/anaconda3_501/lib/python3.6/site-packages (from azureml-telemetry==1.0.17.*->azureml-train-automl==1.0.17.*; extra == \"automl\"->azureml-sdk[automl]) (0.11.7)\nRequirement already satisfied, skipping upgrade: oauthlib>=3.0.0 in /home/nbuser/anaconda3_501/lib/python3.6/site-packages (from requests-oauthlib>=0.5.0->msrest>=0.5.1->azureml-core==1.0.17.*->azureml-sdk[automl]) (3.0.1)\nRequirement already satisfied, skipping upgrade: pycparser in /home/nbuser/anaconda3_501/lib/python3.6/site-packages (from cffi!=1.11.3,>=1.7->cryptography!=1.9,!=2.0.*,!=2.1.*,!=2.2.*,<2.6->azureml-core==1.0.17.*->azureml-sdk[automl]) (2.19)\nRequirement already satisfied, skipping upgrade: jsonschema in /home/nbuser/anaconda3_501/lib/python3.6/site-packages (from JsonForm>=0.0.2->resource>=0.1.8->azureml-train-automl==1.0.17.*; extra == \"automl\"->azureml-sdk[automl]) (2.6.0)\n",
          "name": "stdout"
        },
        {
          "output_type": "stream",
          "text": "Requirement already satisfied, skipping upgrade: werkzeug>=0.11.10 in /home/nbuser/anaconda3_501/lib/python3.6/site-packages (from tensorboard<1.13.0,>=1.12.0->tensorflow<=1.12.0,>=1.10.0->azureml-train-automl==1.0.17.*; extra == \"automl\"->azureml-sdk[automl]) (0.14.1)\nRequirement already satisfied, skipping upgrade: markdown>=2.6.8 in /home/nbuser/anaconda3_501/lib/python3.6/site-packages (from tensorboard<1.13.0,>=1.12.0->tensorflow<=1.12.0,>=1.10.0->azureml-train-automl==1.0.17.*; extra == \"automl\"->azureml-sdk[automl]) (3.0.1)\nRequirement already satisfied, skipping upgrade: setuptools in /home/nbuser/anaconda3_501/lib/python3.6/site-packages (from protobuf>=3.6.1->tensorflow<=1.12.0,>=1.10.0->azureml-train-automl==1.0.17.*; extra == \"automl\"->azureml-sdk[automl]) (40.8.0)\nRequirement already satisfied, skipping upgrade: h5py in /home/nbuser/anaconda3_501/lib/python3.6/site-packages (from keras-applications>=1.0.6->tensorflow<=1.12.0,>=1.10.0->azureml-train-automl==1.0.17.*; extra == \"automl\"->azureml-sdk[automl]) (2.8.0)\nRequirement already satisfied, skipping upgrade: distro>=1.2.0 in /home/nbuser/anaconda3_501/lib/python3.6/site-packages (from dotnetcore2==2.1.7->azureml-dataprep<1.1.0,>=0.5.2->azureml-train-automl==1.0.17.*; extra == \"automl\"->azureml-sdk[automl]) (1.4.0)\n",
          "name": "stdout"
        }
      ]
    },
    {
      "metadata": {
        "trusted": true
      },
      "cell_type": "code",
      "source": "# auto ml core packages update\n!pip install --upgrade azureml-sdk[notebooks]",
      "execution_count": 2,
      "outputs": [
        {
          "output_type": "stream",
          "text": "Requirement already up-to-date: azureml-sdk[notebooks] in /home/nbuser/anaconda3_501/lib/python3.6/site-packages (1.0.17)\nRequirement already satisfied, skipping upgrade: azureml-pipeline==1.0.17.* in /home/nbuser/anaconda3_501/lib/python3.6/site-packages (from azureml-sdk[notebooks]) (1.0.17)\nRequirement already satisfied, skipping upgrade: azureml-core==1.0.17.* in /home/nbuser/anaconda3_501/lib/python3.6/site-packages (from azureml-sdk[notebooks]) (1.0.17.1)\nRequirement already satisfied, skipping upgrade: azureml-train==1.0.17.* in /home/nbuser/anaconda3_501/lib/python3.6/site-packages (from azureml-sdk[notebooks]) (1.0.17)\nRequirement already satisfied, skipping upgrade: azureml-widgets==1.0.17.*; extra == \"notebooks\" in /home/nbuser/anaconda3_501/lib/python3.6/site-packages (from azureml-sdk[notebooks]) (1.0.17)\nRequirement already satisfied, skipping upgrade: azureml-contrib-notebook==1.0.17.*; extra == \"notebooks\" in /home/nbuser/anaconda3_501/lib/python3.6/site-packages (from azureml-sdk[notebooks]) (1.0.17)\nRequirement already satisfied, skipping upgrade: azureml-pipeline-steps==1.0.17.* in /home/nbuser/anaconda3_501/lib/python3.6/site-packages (from azureml-pipeline==1.0.17.*->azureml-sdk[notebooks]) (1.0.17)\nRequirement already satisfied, skipping upgrade: azureml-pipeline-core==1.0.17.* in /home/nbuser/anaconda3_501/lib/python3.6/site-packages (from azureml-pipeline==1.0.17.*->azureml-sdk[notebooks]) (1.0.17)\nRequirement already satisfied, skipping upgrade: docker in /home/nbuser/anaconda3_501/lib/python3.6/site-packages (from azureml-core==1.0.17.*->azureml-sdk[notebooks]) (3.7.0)\nRequirement already satisfied, skipping upgrade: adal>=1.2.0 in /home/nbuser/anaconda3_501/lib/python3.6/site-packages (from azureml-core==1.0.17.*->azureml-sdk[notebooks]) (1.2.1)\nRequirement already satisfied, skipping upgrade: ndg-httpsclient in /home/nbuser/anaconda3_501/lib/python3.6/site-packages (from azureml-core==1.0.17.*->azureml-sdk[notebooks]) (0.5.1)\nRequirement already satisfied, skipping upgrade: contextlib2 in /home/nbuser/anaconda3_501/lib/python3.6/site-packages (from azureml-core==1.0.17.*->azureml-sdk[notebooks]) (0.5.5)\nRequirement already satisfied, skipping upgrade: azure-common>=1.1.12 in /home/nbuser/anaconda3_501/lib/python3.6/site-packages (from azureml-core==1.0.17.*->azureml-sdk[notebooks]) (1.1.18)\nRequirement already satisfied, skipping upgrade: azure-mgmt-authorization>=0.40.0 in /home/nbuser/anaconda3_501/lib/python3.6/site-packages (from azureml-core==1.0.17.*->azureml-sdk[notebooks]) (0.50.0)\nRequirement already satisfied, skipping upgrade: pathspec in /home/nbuser/anaconda3_501/lib/python3.6/site-packages (from azureml-core==1.0.17.*->azureml-sdk[notebooks]) (0.5.9)\nRequirement already satisfied, skipping upgrade: pyyaml>=3.13 in /home/nbuser/anaconda3_501/lib/python3.6/site-packages (from azureml-core==1.0.17.*->azureml-sdk[notebooks]) (3.13)\nRequirement already satisfied, skipping upgrade: azure-mgmt-resource>=1.2.1 in /home/nbuser/anaconda3_501/lib/python3.6/site-packages (from azureml-core==1.0.17.*->azureml-sdk[notebooks]) (2.0.0)\nRequirement already satisfied, skipping upgrade: ruamel.yaml<=0.15.51,>=0.15.35 in /home/nbuser/anaconda3_501/lib/python3.6/site-packages (from azureml-core==1.0.17.*->azureml-sdk[notebooks]) (0.15.51)\nRequirement already satisfied, skipping upgrade: SecretStorage in /home/nbuser/anaconda3_501/lib/python3.6/site-packages (from azureml-core==1.0.17.*->azureml-sdk[notebooks]) (2.3.1)\nRequirement already satisfied, skipping upgrade: cryptography!=1.9,!=2.0.*,!=2.1.*,!=2.2.*,<2.6 in /home/nbuser/anaconda3_501/lib/python3.6/site-packages (from azureml-core==1.0.17.*->azureml-sdk[notebooks]) (2.3.1)\nRequirement already satisfied, skipping upgrade: urllib3>=1.23 in /home/nbuser/anaconda3_501/lib/python3.6/site-packages (from azureml-core==1.0.17.*->azureml-sdk[notebooks]) (1.23)\nRequirement already satisfied, skipping upgrade: six>=1.11.0 in /home/nbuser/anaconda3_501/lib/python3.6/site-packages (from azureml-core==1.0.17.*->azureml-sdk[notebooks]) (1.11.0)\nRequirement already satisfied, skipping upgrade: msrest>=0.5.1 in /home/nbuser/anaconda3_501/lib/python3.6/site-packages (from azureml-core==1.0.17.*->azureml-sdk[notebooks]) (0.6.4)\nRequirement already satisfied, skipping upgrade: azure-mgmt-storage>=1.5.0 in /home/nbuser/anaconda3_501/lib/python3.6/site-packages (from azureml-core==1.0.17.*->azureml-sdk[notebooks]) (2.0.0)\nRequirement already satisfied, skipping upgrade: azure-mgmt-keyvault>=0.40.0 in /home/nbuser/anaconda3_501/lib/python3.6/site-packages (from azureml-core==1.0.17.*->azureml-sdk[notebooks]) (1.1.0)\nRequirement already satisfied, skipping upgrade: pytz in /home/nbuser/anaconda3_501/lib/python3.6/site-packages (from azureml-core==1.0.17.*->azureml-sdk[notebooks]) (2018.7)\nRequirement already satisfied, skipping upgrade: paramiko>=2.0.8 in /home/nbuser/anaconda3_501/lib/python3.6/site-packages (from azureml-core==1.0.17.*->azureml-sdk[notebooks]) (2.4.2)\nRequirement already satisfied, skipping upgrade: jsonpickle in /home/nbuser/anaconda3_501/lib/python3.6/site-packages (from azureml-core==1.0.17.*->azureml-sdk[notebooks]) (1.1)\nRequirement already satisfied, skipping upgrade: jmespath in /home/nbuser/anaconda3_501/lib/python3.6/site-packages (from azureml-core==1.0.17.*->azureml-sdk[notebooks]) (0.9.3)\nRequirement already satisfied, skipping upgrade: requests>=2.19.1 in /home/nbuser/anaconda3_501/lib/python3.6/site-packages (from azureml-core==1.0.17.*->azureml-sdk[notebooks]) (2.21.0)\nRequirement already satisfied, skipping upgrade: python-dateutil>=2.7.3 in /home/nbuser/anaconda3_501/lib/python3.6/site-packages (from azureml-core==1.0.17.*->azureml-sdk[notebooks]) (2.7.5)\nRequirement already satisfied, skipping upgrade: PyJWT in /home/nbuser/anaconda3_501/lib/python3.6/site-packages (from azureml-core==1.0.17.*->azureml-sdk[notebooks]) (1.7.1)\nRequirement already satisfied, skipping upgrade: azure-graphrbac>=0.40.0 in /home/nbuser/anaconda3_501/lib/python3.6/site-packages (from azureml-core==1.0.17.*->azureml-sdk[notebooks]) (0.40.0)\nRequirement already satisfied, skipping upgrade: msrestazure>=0.4.33 in /home/nbuser/anaconda3_501/lib/python3.6/site-packages (from azureml-core==1.0.17.*->azureml-sdk[notebooks]) (0.6.0)\nRequirement already satisfied, skipping upgrade: backports.tempfile in /home/nbuser/anaconda3_501/lib/python3.6/site-packages (from azureml-core==1.0.17.*->azureml-sdk[notebooks]) (1.0)\nRequirement already satisfied, skipping upgrade: azure-mgmt-containerregistry>=2.0.0 in /home/nbuser/anaconda3_501/lib/python3.6/site-packages (from azureml-core==1.0.17.*->azureml-sdk[notebooks]) (2.7.0)\nRequirement already satisfied, skipping upgrade: pyopenssl in /home/nbuser/anaconda3_501/lib/python3.6/site-packages (from azureml-core==1.0.17.*->azureml-sdk[notebooks]) (18.0.0)\nRequirement already satisfied, skipping upgrade: azureml-train-core==1.0.17.* in /home/nbuser/anaconda3_501/lib/python3.6/site-packages (from azureml-train==1.0.17.*->azureml-sdk[notebooks]) (1.0.17)\nRequirement already satisfied, skipping upgrade: ipywidgets>=7.0.0 in /home/nbuser/anaconda3_501/lib/python3.6/site-packages (from azureml-widgets==1.0.17.*; extra == \"notebooks\"->azureml-sdk[notebooks]) (7.4.2)\nRequirement already satisfied, skipping upgrade: azureml-telemetry==1.0.17.* in /home/nbuser/anaconda3_501/lib/python3.6/site-packages (from azureml-widgets==1.0.17.*; extra == \"notebooks\"->azureml-sdk[notebooks]) (1.0.17)\nRequirement already satisfied, skipping upgrade: ipython in /home/nbuser/anaconda3_501/lib/python3.6/site-packages (from azureml-contrib-notebook==1.0.17.*; extra == \"notebooks\"->azureml-sdk[notebooks]) (7.1.1)\nRequirement already satisfied, skipping upgrade: certifi in /home/nbuser/anaconda3_501/lib/python3.6/site-packages (from azureml-pipeline-steps==1.0.17.*->azureml-pipeline==1.0.17.*->azureml-sdk[notebooks]) (2018.10.15)\nRequirement already satisfied, skipping upgrade: docker-pycreds>=0.4.0 in /home/nbuser/anaconda3_501/lib/python3.6/site-packages (from docker->azureml-core==1.0.17.*->azureml-sdk[notebooks]) (0.4.0)\nRequirement already satisfied, skipping upgrade: websocket-client>=0.32.0 in /home/nbuser/anaconda3_501/lib/python3.6/site-packages (from docker->azureml-core==1.0.17.*->azureml-sdk[notebooks]) (0.54.0)\n",
          "name": "stdout"
        },
        {
          "output_type": "stream",
          "text": "Requirement already satisfied, skipping upgrade: pyasn1>=0.1.1 in /home/nbuser/anaconda3_501/lib/python3.6/site-packages (from ndg-httpsclient->azureml-core==1.0.17.*->azureml-sdk[notebooks]) (0.4.4)\nRequirement already satisfied, skipping upgrade: azure-mgmt-nspkg>=2.0.0 in /home/nbuser/anaconda3_501/lib/python3.6/site-packages (from azure-mgmt-authorization>=0.40.0->azureml-core==1.0.17.*->azureml-sdk[notebooks]) (3.0.2)\nRequirement already satisfied, skipping upgrade: idna>=2.1 in /home/nbuser/anaconda3_501/lib/python3.6/site-packages (from cryptography!=1.9,!=2.0.*,!=2.1.*,!=2.2.*,<2.6->azureml-core==1.0.17.*->azureml-sdk[notebooks]) (2.7)\nRequirement already satisfied, skipping upgrade: asn1crypto>=0.21.0 in /home/nbuser/anaconda3_501/lib/python3.6/site-packages (from cryptography!=1.9,!=2.0.*,!=2.1.*,!=2.2.*,<2.6->azureml-core==1.0.17.*->azureml-sdk[notebooks]) (0.24.0)\nRequirement already satisfied, skipping upgrade: cffi!=1.11.3,>=1.7 in /home/nbuser/anaconda3_501/lib/python3.6/site-packages (from cryptography!=1.9,!=2.0.*,!=2.1.*,!=2.2.*,<2.6->azureml-core==1.0.17.*->azureml-sdk[notebooks]) (1.11.5)\nRequirement already satisfied, skipping upgrade: isodate>=0.6.0 in /home/nbuser/anaconda3_501/lib/python3.6/site-packages (from msrest>=0.5.1->azureml-core==1.0.17.*->azureml-sdk[notebooks]) (0.6.0)\nRequirement already satisfied, skipping upgrade: requests-oauthlib>=0.5.0 in /home/nbuser/anaconda3_501/lib/python3.6/site-packages (from msrest>=0.5.1->azureml-core==1.0.17.*->azureml-sdk[notebooks]) (1.2.0)\nRequirement already satisfied, skipping upgrade: bcrypt>=3.1.3 in /home/nbuser/anaconda3_501/lib/python3.6/site-packages (from paramiko>=2.0.8->azureml-core==1.0.17.*->azureml-sdk[notebooks]) (3.1.6)\nRequirement already satisfied, skipping upgrade: pynacl>=1.0.1 in /home/nbuser/anaconda3_501/lib/python3.6/site-packages (from paramiko>=2.0.8->azureml-core==1.0.17.*->azureml-sdk[notebooks]) (1.3.0)\nRequirement already satisfied, skipping upgrade: chardet<3.1.0,>=3.0.2 in /home/nbuser/anaconda3_501/lib/python3.6/site-packages (from requests>=2.19.1->azureml-core==1.0.17.*->azureml-sdk[notebooks]) (3.0.4)\nRequirement already satisfied, skipping upgrade: azure-nspkg>=2.0.0 in /home/nbuser/anaconda3_501/lib/python3.6/site-packages (from azure-graphrbac>=0.40.0->azureml-core==1.0.17.*->azureml-sdk[notebooks]) (3.0.2)\nRequirement already satisfied, skipping upgrade: backports.weakref in /home/nbuser/anaconda3_501/lib/python3.6/site-packages (from backports.tempfile->azureml-core==1.0.17.*->azureml-sdk[notebooks]) (1.0rc1)\nRequirement already satisfied, skipping upgrade: azureml-train-restclients-hyperdrive==1.0.17.* in /home/nbuser/anaconda3_501/lib/python3.6/site-packages (from azureml-train-core==1.0.17.*->azureml-train==1.0.17.*->azureml-sdk[notebooks]) (1.0.17)\nRequirement already satisfied, skipping upgrade: nbformat>=4.2.0 in /home/nbuser/anaconda3_501/lib/python3.6/site-packages (from ipywidgets>=7.0.0->azureml-widgets==1.0.17.*; extra == \"notebooks\"->azureml-sdk[notebooks]) (4.4.0)\nRequirement already satisfied, skipping upgrade: ipykernel>=4.5.1 in /home/nbuser/anaconda3_501/lib/python3.6/site-packages (from ipywidgets>=7.0.0->azureml-widgets==1.0.17.*; extra == \"notebooks\"->azureml-sdk[notebooks]) (5.1.0)\nRequirement already satisfied, skipping upgrade: traitlets>=4.3.1 in /home/nbuser/anaconda3_501/lib/python3.6/site-packages (from ipywidgets>=7.0.0->azureml-widgets==1.0.17.*; extra == \"notebooks\"->azureml-sdk[notebooks]) (4.3.2)\nRequirement already satisfied, skipping upgrade: widgetsnbextension~=3.4.0 in /home/nbuser/anaconda3_501/lib/python3.6/site-packages (from ipywidgets>=7.0.0->azureml-widgets==1.0.17.*; extra == \"notebooks\"->azureml-sdk[notebooks]) (3.4.2)\nRequirement already satisfied, skipping upgrade: applicationinsights in /home/nbuser/anaconda3_501/lib/python3.6/site-packages (from azureml-telemetry==1.0.17.*->azureml-widgets==1.0.17.*; extra == \"notebooks\"->azureml-sdk[notebooks]) (0.11.7)\nRequirement already satisfied, skipping upgrade: pygments in /home/nbuser/anaconda3_501/lib/python3.6/site-packages (from ipython->azureml-contrib-notebook==1.0.17.*; extra == \"notebooks\"->azureml-sdk[notebooks]) (2.2.0)\nRequirement already satisfied, skipping upgrade: jedi>=0.10 in /home/nbuser/anaconda3_501/lib/python3.6/site-packages (from ipython->azureml-contrib-notebook==1.0.17.*; extra == \"notebooks\"->azureml-sdk[notebooks]) (0.13.1)\nRequirement already satisfied, skipping upgrade: backcall in /home/nbuser/anaconda3_501/lib/python3.6/site-packages (from ipython->azureml-contrib-notebook==1.0.17.*; extra == \"notebooks\"->azureml-sdk[notebooks]) (0.1.0)\nRequirement already satisfied, skipping upgrade: prompt-toolkit<2.1.0,>=2.0.0 in /home/nbuser/anaconda3_501/lib/python3.6/site-packages (from ipython->azureml-contrib-notebook==1.0.17.*; extra == \"notebooks\"->azureml-sdk[notebooks]) (2.0.7)\nRequirement already satisfied, skipping upgrade: setuptools>=18.5 in /home/nbuser/anaconda3_501/lib/python3.6/site-packages (from ipython->azureml-contrib-notebook==1.0.17.*; extra == \"notebooks\"->azureml-sdk[notebooks]) (40.8.0)\nRequirement already satisfied, skipping upgrade: decorator in /home/nbuser/anaconda3_501/lib/python3.6/site-packages (from ipython->azureml-contrib-notebook==1.0.17.*; extra == \"notebooks\"->azureml-sdk[notebooks]) (4.3.0)\nRequirement already satisfied, skipping upgrade: pexpect; sys_platform != \"win32\" in /home/nbuser/anaconda3_501/lib/python3.6/site-packages (from ipython->azureml-contrib-notebook==1.0.17.*; extra == \"notebooks\"->azureml-sdk[notebooks]) (4.6.0)\nRequirement already satisfied, skipping upgrade: pickleshare in /home/nbuser/anaconda3_501/lib/python3.6/site-packages (from ipython->azureml-contrib-notebook==1.0.17.*; extra == \"notebooks\"->azureml-sdk[notebooks]) (0.7.5)\nRequirement already satisfied, skipping upgrade: pycparser in /home/nbuser/anaconda3_501/lib/python3.6/site-packages (from cffi!=1.11.3,>=1.7->cryptography!=1.9,!=2.0.*,!=2.1.*,!=2.2.*,<2.6->azureml-core==1.0.17.*->azureml-sdk[notebooks]) (2.19)\nRequirement already satisfied, skipping upgrade: oauthlib>=3.0.0 in /home/nbuser/anaconda3_501/lib/python3.6/site-packages (from requests-oauthlib>=0.5.0->msrest>=0.5.1->azureml-core==1.0.17.*->azureml-sdk[notebooks]) (3.0.1)\nRequirement already satisfied, skipping upgrade: ipython-genutils in /home/nbuser/anaconda3_501/lib/python3.6/site-packages (from nbformat>=4.2.0->ipywidgets>=7.0.0->azureml-widgets==1.0.17.*; extra == \"notebooks\"->azureml-sdk[notebooks]) (0.2.0)\nRequirement already satisfied, skipping upgrade: jsonschema!=2.5.0,>=2.4 in /home/nbuser/anaconda3_501/lib/python3.6/site-packages (from nbformat>=4.2.0->ipywidgets>=7.0.0->azureml-widgets==1.0.17.*; extra == \"notebooks\"->azureml-sdk[notebooks]) (2.6.0)\nRequirement already satisfied, skipping upgrade: jupyter-core in /home/nbuser/anaconda3_501/lib/python3.6/site-packages (from nbformat>=4.2.0->ipywidgets>=7.0.0->azureml-widgets==1.0.17.*; extra == \"notebooks\"->azureml-sdk[notebooks]) (4.4.0)\nRequirement already satisfied, skipping upgrade: tornado>=4.2 in /home/nbuser/anaconda3_501/lib/python3.6/site-packages (from ipykernel>=4.5.1->ipywidgets>=7.0.0->azureml-widgets==1.0.17.*; extra == \"notebooks\"->azureml-sdk[notebooks]) (4.5.3)\nRequirement already satisfied, skipping upgrade: jupyter-client in /home/nbuser/anaconda3_501/lib/python3.6/site-packages (from ipykernel>=4.5.1->ipywidgets>=7.0.0->azureml-widgets==1.0.17.*; extra == \"notebooks\"->azureml-sdk[notebooks]) (5.2.3)\nRequirement already satisfied, skipping upgrade: notebook>=4.4.1 in /home/nbuser/anaconda3_501/lib/python3.6/site-packages (from widgetsnbextension~=3.4.0->ipywidgets>=7.0.0->azureml-widgets==1.0.17.*; extra == \"notebooks\"->azureml-sdk[notebooks]) (5.7.2)\nRequirement already satisfied, skipping upgrade: parso>=0.3.0 in /home/nbuser/anaconda3_501/lib/python3.6/site-packages (from jedi>=0.10->ipython->azureml-contrib-notebook==1.0.17.*; extra == \"notebooks\"->azureml-sdk[notebooks]) (0.3.1)\nRequirement already satisfied, skipping upgrade: wcwidth in /home/nbuser/anaconda3_501/lib/python3.6/site-packages (from prompt-toolkit<2.1.0,>=2.0.0->ipython->azureml-contrib-notebook==1.0.17.*; extra == \"notebooks\"->azureml-sdk[notebooks]) (0.1.7)\nRequirement already satisfied, skipping upgrade: ptyprocess>=0.5 in /home/nbuser/anaconda3_501/lib/python3.6/site-packages (from pexpect; sys_platform != \"win32\"->ipython->azureml-contrib-notebook==1.0.17.*; extra == \"notebooks\"->azureml-sdk[notebooks]) (0.6.0)\nRequirement already satisfied, skipping upgrade: pyzmq>=13 in /home/nbuser/anaconda3_501/lib/python3.6/site-packages (from jupyter-client->ipykernel>=4.5.1->ipywidgets>=7.0.0->azureml-widgets==1.0.17.*; extra == \"notebooks\"->azureml-sdk[notebooks]) (17.1.2)\nRequirement already satisfied, skipping upgrade: jinja2 in /home/nbuser/anaconda3_501/lib/python3.6/site-packages (from notebook>=4.4.1->widgetsnbextension~=3.4.0->ipywidgets>=7.0.0->azureml-widgets==1.0.17.*; extra == \"notebooks\"->azureml-sdk[notebooks]) (2.10)\nRequirement already satisfied, skipping upgrade: nbconvert in /home/nbuser/anaconda3_501/lib/python3.6/site-packages (from notebook>=4.4.1->widgetsnbextension~=3.4.0->ipywidgets>=7.0.0->azureml-widgets==1.0.17.*; extra == \"notebooks\"->azureml-sdk[notebooks]) (5.4.0)\n",
          "name": "stdout"
        },
        {
          "output_type": "stream",
          "text": "Requirement already satisfied, skipping upgrade: prometheus-client in /home/nbuser/anaconda3_501/lib/python3.6/site-packages (from notebook>=4.4.1->widgetsnbextension~=3.4.0->ipywidgets>=7.0.0->azureml-widgets==1.0.17.*; extra == \"notebooks\"->azureml-sdk[notebooks]) (0.4.2)\nRequirement already satisfied, skipping upgrade: terminado>=0.8.1 in /home/nbuser/anaconda3_501/lib/python3.6/site-packages (from notebook>=4.4.1->widgetsnbextension~=3.4.0->ipywidgets>=7.0.0->azureml-widgets==1.0.17.*; extra == \"notebooks\"->azureml-sdk[notebooks]) (0.8.1)\nRequirement already satisfied, skipping upgrade: Send2Trash in /home/nbuser/anaconda3_501/lib/python3.6/site-packages (from notebook>=4.4.1->widgetsnbextension~=3.4.0->ipywidgets>=7.0.0->azureml-widgets==1.0.17.*; extra == \"notebooks\"->azureml-sdk[notebooks]) (1.5.0)\nRequirement already satisfied, skipping upgrade: MarkupSafe>=0.23 in /home/nbuser/anaconda3_501/lib/python3.6/site-packages (from jinja2->notebook>=4.4.1->widgetsnbextension~=3.4.0->ipywidgets>=7.0.0->azureml-widgets==1.0.17.*; extra == \"notebooks\"->azureml-sdk[notebooks]) (1.1.0)\nRequirement already satisfied, skipping upgrade: mistune>=0.8.1 in /home/nbuser/anaconda3_501/lib/python3.6/site-packages (from nbconvert->notebook>=4.4.1->widgetsnbextension~=3.4.0->ipywidgets>=7.0.0->azureml-widgets==1.0.17.*; extra == \"notebooks\"->azureml-sdk[notebooks]) (0.8.4)\nRequirement already satisfied, skipping upgrade: entrypoints>=0.2.2 in /home/nbuser/anaconda3_501/lib/python3.6/site-packages (from nbconvert->notebook>=4.4.1->widgetsnbextension~=3.4.0->ipywidgets>=7.0.0->azureml-widgets==1.0.17.*; extra == \"notebooks\"->azureml-sdk[notebooks]) (0.2.3)\nRequirement already satisfied, skipping upgrade: bleach in /home/nbuser/anaconda3_501/lib/python3.6/site-packages (from nbconvert->notebook>=4.4.1->widgetsnbextension~=3.4.0->ipywidgets>=7.0.0->azureml-widgets==1.0.17.*; extra == \"notebooks\"->azureml-sdk[notebooks]) (1.5.0)\nRequirement already satisfied, skipping upgrade: pandocfilters>=1.4.1 in /home/nbuser/anaconda3_501/lib/python3.6/site-packages (from nbconvert->notebook>=4.4.1->widgetsnbextension~=3.4.0->ipywidgets>=7.0.0->azureml-widgets==1.0.17.*; extra == \"notebooks\"->azureml-sdk[notebooks]) (1.4.2)\nRequirement already satisfied, skipping upgrade: testpath in /home/nbuser/anaconda3_501/lib/python3.6/site-packages (from nbconvert->notebook>=4.4.1->widgetsnbextension~=3.4.0->ipywidgets>=7.0.0->azureml-widgets==1.0.17.*; extra == \"notebooks\"->azureml-sdk[notebooks]) (0.4.2)\nRequirement already satisfied, skipping upgrade: defusedxml in /home/nbuser/anaconda3_501/lib/python3.6/site-packages (from nbconvert->notebook>=4.4.1->widgetsnbextension~=3.4.0->ipywidgets>=7.0.0->azureml-widgets==1.0.17.*; extra == \"notebooks\"->azureml-sdk[notebooks]) (0.5.0)\nRequirement already satisfied, skipping upgrade: html5lib!=0.9999,!=0.99999,<0.99999999,>=0.999 in /home/nbuser/anaconda3_501/lib/python3.6/site-packages (from bleach->nbconvert->notebook>=4.4.1->widgetsnbextension~=3.4.0->ipywidgets>=7.0.0->azureml-widgets==1.0.17.*; extra == \"notebooks\"->azureml-sdk[notebooks]) (0.9999999)\n",
          "name": "stdout"
        }
      ]
    },
    {
      "metadata": {
        "trusted": true
      },
      "cell_type": "code",
      "source": "# auto ml core packages update\n!pip install --upgrade azureml-sdk[explain]",
      "execution_count": 64,
      "outputs": [
        {
          "output_type": "stream",
          "text": "Requirement already up-to-date: azureml-sdk[explain] in /home/nbuser/anaconda3_501/lib/python3.6/site-packages (1.0.17)\nRequirement already satisfied, skipping upgrade: azureml-pipeline==1.0.17.* in /home/nbuser/anaconda3_501/lib/python3.6/site-packages (from azureml-sdk[explain]) (1.0.17)\nRequirement already satisfied, skipping upgrade: azureml-core==1.0.17.* in /home/nbuser/anaconda3_501/lib/python3.6/site-packages (from azureml-sdk[explain]) (1.0.17.1)\nRequirement already satisfied, skipping upgrade: azureml-train==1.0.17.* in /home/nbuser/anaconda3_501/lib/python3.6/site-packages (from azureml-sdk[explain]) (1.0.17)\nCollecting azureml-explain-model==1.0.17.*; extra == \"explain\" (from azureml-sdk[explain])\n  Downloading https://files.pythonhosted.org/packages/e6/03/d8af7f291cdda05a5b4ad146485412709d2a0e27280bec374532198ecd45/azureml_explain_model-1.0.17-py3-none-any.whl\nRequirement already satisfied, skipping upgrade: azureml-pipeline-steps==1.0.17.* in /home/nbuser/anaconda3_501/lib/python3.6/site-packages (from azureml-pipeline==1.0.17.*->azureml-sdk[explain]) (1.0.17)\nRequirement already satisfied, skipping upgrade: azureml-pipeline-core==1.0.17.* in /home/nbuser/anaconda3_501/lib/python3.6/site-packages (from azureml-pipeline==1.0.17.*->azureml-sdk[explain]) (1.0.17)\nRequirement already satisfied, skipping upgrade: PyJWT in /home/nbuser/anaconda3_501/lib/python3.6/site-packages (from azureml-core==1.0.17.*->azureml-sdk[explain]) (1.7.1)\nRequirement already satisfied, skipping upgrade: azure-mgmt-keyvault>=0.40.0 in /home/nbuser/anaconda3_501/lib/python3.6/site-packages (from azureml-core==1.0.17.*->azureml-sdk[explain]) (1.1.0)\nRequirement already satisfied, skipping upgrade: paramiko>=2.0.8 in /home/nbuser/anaconda3_501/lib/python3.6/site-packages (from azureml-core==1.0.17.*->azureml-sdk[explain]) (2.4.2)\nRequirement already satisfied, skipping upgrade: backports.tempfile in /home/nbuser/anaconda3_501/lib/python3.6/site-packages (from azureml-core==1.0.17.*->azureml-sdk[explain]) (1.0)\nRequirement already satisfied, skipping upgrade: azure-mgmt-containerregistry>=2.0.0 in /home/nbuser/anaconda3_501/lib/python3.6/site-packages (from azureml-core==1.0.17.*->azureml-sdk[explain]) (2.7.0)\nRequirement already satisfied, skipping upgrade: ndg-httpsclient in /home/nbuser/anaconda3_501/lib/python3.6/site-packages (from azureml-core==1.0.17.*->azureml-sdk[explain]) (0.5.1)\nRequirement already satisfied, skipping upgrade: urllib3>=1.23 in /home/nbuser/anaconda3_501/lib/python3.6/site-packages (from azureml-core==1.0.17.*->azureml-sdk[explain]) (1.23)\nRequirement already satisfied, skipping upgrade: pytz in /home/nbuser/anaconda3_501/lib/python3.6/site-packages (from azureml-core==1.0.17.*->azureml-sdk[explain]) (2018.7)\nRequirement already satisfied, skipping upgrade: azure-mgmt-storage>=1.5.0 in /home/nbuser/anaconda3_501/lib/python3.6/site-packages (from azureml-core==1.0.17.*->azureml-sdk[explain]) (2.0.0)\nRequirement already satisfied, skipping upgrade: azure-graphrbac>=0.40.0 in /home/nbuser/anaconda3_501/lib/python3.6/site-packages (from azureml-core==1.0.17.*->azureml-sdk[explain]) (0.40.0)\nRequirement already satisfied, skipping upgrade: six>=1.11.0 in /home/nbuser/anaconda3_501/lib/python3.6/site-packages (from azureml-core==1.0.17.*->azureml-sdk[explain]) (1.11.0)\nRequirement already satisfied, skipping upgrade: python-dateutil>=2.7.3 in /home/nbuser/anaconda3_501/lib/python3.6/site-packages (from azureml-core==1.0.17.*->azureml-sdk[explain]) (2.7.5)\nRequirement already satisfied, skipping upgrade: pyyaml>=3.13 in /home/nbuser/anaconda3_501/lib/python3.6/site-packages (from azureml-core==1.0.17.*->azureml-sdk[explain]) (3.13)\nRequirement already satisfied, skipping upgrade: azure-common>=1.1.12 in /home/nbuser/anaconda3_501/lib/python3.6/site-packages (from azureml-core==1.0.17.*->azureml-sdk[explain]) (1.1.18)\nRequirement already satisfied, skipping upgrade: jsonpickle in /home/nbuser/anaconda3_501/lib/python3.6/site-packages (from azureml-core==1.0.17.*->azureml-sdk[explain]) (1.1)\nRequirement already satisfied, skipping upgrade: SecretStorage in /home/nbuser/anaconda3_501/lib/python3.6/site-packages (from azureml-core==1.0.17.*->azureml-sdk[explain]) (2.3.1)\nRequirement already satisfied, skipping upgrade: contextlib2 in /home/nbuser/anaconda3_501/lib/python3.6/site-packages (from azureml-core==1.0.17.*->azureml-sdk[explain]) (0.5.5)\nRequirement already satisfied, skipping upgrade: pyopenssl in /home/nbuser/anaconda3_501/lib/python3.6/site-packages (from azureml-core==1.0.17.*->azureml-sdk[explain]) (18.0.0)\nRequirement already satisfied, skipping upgrade: msrestazure>=0.4.33 in /home/nbuser/anaconda3_501/lib/python3.6/site-packages (from azureml-core==1.0.17.*->azureml-sdk[explain]) (0.6.0)\nRequirement already satisfied, skipping upgrade: requests>=2.19.1 in /home/nbuser/anaconda3_501/lib/python3.6/site-packages (from azureml-core==1.0.17.*->azureml-sdk[explain]) (2.21.0)\nRequirement already satisfied, skipping upgrade: azure-mgmt-resource>=1.2.1 in /home/nbuser/anaconda3_501/lib/python3.6/site-packages (from azureml-core==1.0.17.*->azureml-sdk[explain]) (2.0.0)\nRequirement already satisfied, skipping upgrade: docker in /home/nbuser/anaconda3_501/lib/python3.6/site-packages (from azureml-core==1.0.17.*->azureml-sdk[explain]) (3.7.0)\nRequirement already satisfied, skipping upgrade: azure-mgmt-authorization>=0.40.0 in /home/nbuser/anaconda3_501/lib/python3.6/site-packages (from azureml-core==1.0.17.*->azureml-sdk[explain]) (0.50.0)\nRequirement already satisfied, skipping upgrade: ruamel.yaml<=0.15.51,>=0.15.35 in /home/nbuser/anaconda3_501/lib/python3.6/site-packages (from azureml-core==1.0.17.*->azureml-sdk[explain]) (0.15.51)\nRequirement already satisfied, skipping upgrade: jmespath in /home/nbuser/anaconda3_501/lib/python3.6/site-packages (from azureml-core==1.0.17.*->azureml-sdk[explain]) (0.9.3)\nRequirement already satisfied, skipping upgrade: cryptography!=1.9,!=2.0.*,!=2.1.*,!=2.2.*,<2.6 in /home/nbuser/anaconda3_501/lib/python3.6/site-packages (from azureml-core==1.0.17.*->azureml-sdk[explain]) (2.3.1)\nRequirement already satisfied, skipping upgrade: adal>=1.2.0 in /home/nbuser/anaconda3_501/lib/python3.6/site-packages (from azureml-core==1.0.17.*->azureml-sdk[explain]) (1.2.1)\nRequirement already satisfied, skipping upgrade: msrest>=0.5.1 in /home/nbuser/anaconda3_501/lib/python3.6/site-packages (from azureml-core==1.0.17.*->azureml-sdk[explain]) (0.6.4)\nRequirement already satisfied, skipping upgrade: pathspec in /home/nbuser/anaconda3_501/lib/python3.6/site-packages (from azureml-core==1.0.17.*->azureml-sdk[explain]) (0.5.9)\nRequirement already satisfied, skipping upgrade: azureml-train-core==1.0.17.* in /home/nbuser/anaconda3_501/lib/python3.6/site-packages (from azureml-train==1.0.17.*->azureml-sdk[explain]) (1.0.17)\nRequirement already satisfied, skipping upgrade: scikit-learn in /home/nbuser/anaconda3_501/lib/python3.6/site-packages (from azureml-explain-model==1.0.17.*; extra == \"explain\"->azureml-sdk[explain]) (0.19.1)\nRequirement already satisfied, skipping upgrade: scipy in /home/nbuser/anaconda3_501/lib/python3.6/site-packages (from azureml-explain-model==1.0.17.*; extra == \"explain\"->azureml-sdk[explain]) (1.1.0)\nRequirement already satisfied, skipping upgrade: numpy in /home/nbuser/anaconda3_501/lib/python3.6/site-packages (from azureml-explain-model==1.0.17.*; extra == \"explain\"->azureml-sdk[explain]) (1.14.6)\nRequirement already satisfied, skipping upgrade: shap<=0.28.5,>=0.20.0 in /home/nbuser/anaconda3_501/lib/python3.6/site-packages (from azureml-explain-model==1.0.17.*; extra == \"explain\"->azureml-sdk[explain]) (0.26.0)\nRequirement already satisfied, skipping upgrade: pandas in /home/nbuser/anaconda3_501/lib/python3.6/site-packages (from azureml-explain-model==1.0.17.*; extra == \"explain\"->azureml-sdk[explain]) (0.22.0)\nRequirement already satisfied, skipping upgrade: certifi in /home/nbuser/anaconda3_501/lib/python3.6/site-packages (from azureml-pipeline-steps==1.0.17.*->azureml-pipeline==1.0.17.*->azureml-sdk[explain]) (2018.10.15)\nRequirement already satisfied, skipping upgrade: azure-mgmt-nspkg>=2.0.0 in /home/nbuser/anaconda3_501/lib/python3.6/site-packages (from azure-mgmt-keyvault>=0.40.0->azureml-core==1.0.17.*->azureml-sdk[explain]) (3.0.2)\nRequirement already satisfied, skipping upgrade: pyasn1>=0.1.7 in /home/nbuser/anaconda3_501/lib/python3.6/site-packages (from paramiko>=2.0.8->azureml-core==1.0.17.*->azureml-sdk[explain]) (0.4.4)\nRequirement already satisfied, skipping upgrade: bcrypt>=3.1.3 in /home/nbuser/anaconda3_501/lib/python3.6/site-packages (from paramiko>=2.0.8->azureml-core==1.0.17.*->azureml-sdk[explain]) (3.1.6)\n",
          "name": "stdout"
        },
        {
          "output_type": "stream",
          "text": "Requirement already satisfied, skipping upgrade: pynacl>=1.0.1 in /home/nbuser/anaconda3_501/lib/python3.6/site-packages (from paramiko>=2.0.8->azureml-core==1.0.17.*->azureml-sdk[explain]) (1.3.0)\nRequirement already satisfied, skipping upgrade: backports.weakref in /home/nbuser/anaconda3_501/lib/python3.6/site-packages (from backports.tempfile->azureml-core==1.0.17.*->azureml-sdk[explain]) (1.0rc1)\nRequirement already satisfied, skipping upgrade: azure-nspkg>=2.0.0 in /home/nbuser/anaconda3_501/lib/python3.6/site-packages (from azure-graphrbac>=0.40.0->azureml-core==1.0.17.*->azureml-sdk[explain]) (3.0.2)\nRequirement already satisfied, skipping upgrade: chardet<3.1.0,>=3.0.2 in /home/nbuser/anaconda3_501/lib/python3.6/site-packages (from requests>=2.19.1->azureml-core==1.0.17.*->azureml-sdk[explain]) (3.0.4)\nRequirement already satisfied, skipping upgrade: idna<2.9,>=2.5 in /home/nbuser/anaconda3_501/lib/python3.6/site-packages (from requests>=2.19.1->azureml-core==1.0.17.*->azureml-sdk[explain]) (2.7)\nRequirement already satisfied, skipping upgrade: docker-pycreds>=0.4.0 in /home/nbuser/anaconda3_501/lib/python3.6/site-packages (from docker->azureml-core==1.0.17.*->azureml-sdk[explain]) (0.4.0)\nRequirement already satisfied, skipping upgrade: websocket-client>=0.32.0 in /home/nbuser/anaconda3_501/lib/python3.6/site-packages (from docker->azureml-core==1.0.17.*->azureml-sdk[explain]) (0.54.0)\nRequirement already satisfied, skipping upgrade: asn1crypto>=0.21.0 in /home/nbuser/anaconda3_501/lib/python3.6/site-packages (from cryptography!=1.9,!=2.0.*,!=2.1.*,!=2.2.*,<2.6->azureml-core==1.0.17.*->azureml-sdk[explain]) (0.24.0)\nRequirement already satisfied, skipping upgrade: cffi!=1.11.3,>=1.7 in /home/nbuser/anaconda3_501/lib/python3.6/site-packages (from cryptography!=1.9,!=2.0.*,!=2.1.*,!=2.2.*,<2.6->azureml-core==1.0.17.*->azureml-sdk[explain]) (1.11.5)\nRequirement already satisfied, skipping upgrade: requests-oauthlib>=0.5.0 in /home/nbuser/anaconda3_501/lib/python3.6/site-packages (from msrest>=0.5.1->azureml-core==1.0.17.*->azureml-sdk[explain]) (1.2.0)\nRequirement already satisfied, skipping upgrade: isodate>=0.6.0 in /home/nbuser/anaconda3_501/lib/python3.6/site-packages (from msrest>=0.5.1->azureml-core==1.0.17.*->azureml-sdk[explain]) (0.6.0)\nRequirement already satisfied, skipping upgrade: azureml-telemetry==1.0.17.* in /home/nbuser/anaconda3_501/lib/python3.6/site-packages (from azureml-train-core==1.0.17.*->azureml-train==1.0.17.*->azureml-sdk[explain]) (1.0.17)\nRequirement already satisfied, skipping upgrade: azureml-train-restclients-hyperdrive==1.0.17.* in /home/nbuser/anaconda3_501/lib/python3.6/site-packages (from azureml-train-core==1.0.17.*->azureml-train==1.0.17.*->azureml-sdk[explain]) (1.0.17)\nRequirement already satisfied, skipping upgrade: matplotlib in /home/nbuser/anaconda3_501/lib/python3.6/site-packages (from shap<=0.28.5,>=0.20.0->azureml-explain-model==1.0.17.*; extra == \"explain\"->azureml-sdk[explain]) (3.0.0)\nRequirement already satisfied, skipping upgrade: tqdm in /home/nbuser/anaconda3_501/lib/python3.6/site-packages (from shap<=0.28.5,>=0.20.0->azureml-explain-model==1.0.17.*; extra == \"explain\"->azureml-sdk[explain]) (4.26.0)\nRequirement already satisfied, skipping upgrade: ipython in /home/nbuser/anaconda3_501/lib/python3.6/site-packages (from shap<=0.28.5,>=0.20.0->azureml-explain-model==1.0.17.*; extra == \"explain\"->azureml-sdk[explain]) (7.1.1)\nRequirement already satisfied, skipping upgrade: pycparser in /home/nbuser/anaconda3_501/lib/python3.6/site-packages (from cffi!=1.11.3,>=1.7->cryptography!=1.9,!=2.0.*,!=2.1.*,!=2.2.*,<2.6->azureml-core==1.0.17.*->azureml-sdk[explain]) (2.19)\nRequirement already satisfied, skipping upgrade: oauthlib>=3.0.0 in /home/nbuser/anaconda3_501/lib/python3.6/site-packages (from requests-oauthlib>=0.5.0->msrest>=0.5.1->azureml-core==1.0.17.*->azureml-sdk[explain]) (3.0.1)\nRequirement already satisfied, skipping upgrade: applicationinsights in /home/nbuser/anaconda3_501/lib/python3.6/site-packages (from azureml-telemetry==1.0.17.*->azureml-train-core==1.0.17.*->azureml-train==1.0.17.*->azureml-sdk[explain]) (0.11.7)\nRequirement already satisfied, skipping upgrade: cycler>=0.10 in /home/nbuser/anaconda3_501/lib/python3.6/site-packages (from matplotlib->shap<=0.28.5,>=0.20.0->azureml-explain-model==1.0.17.*; extra == \"explain\"->azureml-sdk[explain]) (0.10.0)\nRequirement already satisfied, skipping upgrade: kiwisolver>=1.0.1 in /home/nbuser/anaconda3_501/lib/python3.6/site-packages (from matplotlib->shap<=0.28.5,>=0.20.0->azureml-explain-model==1.0.17.*; extra == \"explain\"->azureml-sdk[explain]) (1.0.1)\nRequirement already satisfied, skipping upgrade: pyparsing!=2.0.4,!=2.1.2,!=2.1.6,>=2.0.1 in /home/nbuser/anaconda3_501/lib/python3.6/site-packages (from matplotlib->shap<=0.28.5,>=0.20.0->azureml-explain-model==1.0.17.*; extra == \"explain\"->azureml-sdk[explain]) (2.3.0)\nRequirement already satisfied, skipping upgrade: traitlets>=4.2 in /home/nbuser/anaconda3_501/lib/python3.6/site-packages (from ipython->shap<=0.28.5,>=0.20.0->azureml-explain-model==1.0.17.*; extra == \"explain\"->azureml-sdk[explain]) (4.3.2)\nRequirement already satisfied, skipping upgrade: setuptools>=18.5 in /home/nbuser/anaconda3_501/lib/python3.6/site-packages (from ipython->shap<=0.28.5,>=0.20.0->azureml-explain-model==1.0.17.*; extra == \"explain\"->azureml-sdk[explain]) (40.8.0)\nRequirement already satisfied, skipping upgrade: pygments in /home/nbuser/anaconda3_501/lib/python3.6/site-packages (from ipython->shap<=0.28.5,>=0.20.0->azureml-explain-model==1.0.17.*; extra == \"explain\"->azureml-sdk[explain]) (2.2.0)\nRequirement already satisfied, skipping upgrade: decorator in /home/nbuser/anaconda3_501/lib/python3.6/site-packages (from ipython->shap<=0.28.5,>=0.20.0->azureml-explain-model==1.0.17.*; extra == \"explain\"->azureml-sdk[explain]) (4.3.0)\nRequirement already satisfied, skipping upgrade: backcall in /home/nbuser/anaconda3_501/lib/python3.6/site-packages (from ipython->shap<=0.28.5,>=0.20.0->azureml-explain-model==1.0.17.*; extra == \"explain\"->azureml-sdk[explain]) (0.1.0)\nRequirement already satisfied, skipping upgrade: pickleshare in /home/nbuser/anaconda3_501/lib/python3.6/site-packages (from ipython->shap<=0.28.5,>=0.20.0->azureml-explain-model==1.0.17.*; extra == \"explain\"->azureml-sdk[explain]) (0.7.5)\nRequirement already satisfied, skipping upgrade: jedi>=0.10 in /home/nbuser/anaconda3_501/lib/python3.6/site-packages (from ipython->shap<=0.28.5,>=0.20.0->azureml-explain-model==1.0.17.*; extra == \"explain\"->azureml-sdk[explain]) (0.13.1)\nRequirement already satisfied, skipping upgrade: prompt-toolkit<2.1.0,>=2.0.0 in /home/nbuser/anaconda3_501/lib/python3.6/site-packages (from ipython->shap<=0.28.5,>=0.20.0->azureml-explain-model==1.0.17.*; extra == \"explain\"->azureml-sdk[explain]) (2.0.7)\nRequirement already satisfied, skipping upgrade: pexpect; sys_platform != \"win32\" in /home/nbuser/anaconda3_501/lib/python3.6/site-packages (from ipython->shap<=0.28.5,>=0.20.0->azureml-explain-model==1.0.17.*; extra == \"explain\"->azureml-sdk[explain]) (4.6.0)\nRequirement already satisfied, skipping upgrade: ipython-genutils in /home/nbuser/anaconda3_501/lib/python3.6/site-packages (from traitlets>=4.2->ipython->shap<=0.28.5,>=0.20.0->azureml-explain-model==1.0.17.*; extra == \"explain\"->azureml-sdk[explain]) (0.2.0)\nRequirement already satisfied, skipping upgrade: parso>=0.3.0 in /home/nbuser/anaconda3_501/lib/python3.6/site-packages (from jedi>=0.10->ipython->shap<=0.28.5,>=0.20.0->azureml-explain-model==1.0.17.*; extra == \"explain\"->azureml-sdk[explain]) (0.3.1)\nRequirement already satisfied, skipping upgrade: wcwidth in /home/nbuser/anaconda3_501/lib/python3.6/site-packages (from prompt-toolkit<2.1.0,>=2.0.0->ipython->shap<=0.28.5,>=0.20.0->azureml-explain-model==1.0.17.*; extra == \"explain\"->azureml-sdk[explain]) (0.1.7)\nRequirement already satisfied, skipping upgrade: ptyprocess>=0.5 in /home/nbuser/anaconda3_501/lib/python3.6/site-packages (from pexpect; sys_platform != \"win32\"->ipython->shap<=0.28.5,>=0.20.0->azureml-explain-model==1.0.17.*; extra == \"explain\"->azureml-sdk[explain]) (0.6.0)\nInstalling collected packages: azureml-explain-model\n  Found existing installation: azureml-explain-model 1.0.15\n",
          "name": "stdout"
        },
        {
          "output_type": "stream",
          "text": "    Uninstalling azureml-explain-model-1.0.15:\n      Successfully uninstalled azureml-explain-model-1.0.15\nSuccessfully installed azureml-explain-model-1.0.17\n",
          "name": "stdout"
        }
      ]
    },
    {
      "metadata": {
        "trusted": true
      },
      "cell_type": "code",
      "source": "# Webservice schema for Swagger compatibility. Install will take a few minutes\n!pip install --upgrade azureml-sdk[webservice-schema]",
      "execution_count": 3,
      "outputs": [
        {
          "output_type": "stream",
          "text": "Requirement already up-to-date: azureml-sdk[webservice-schema] in /home/nbuser/anaconda3_501/lib/python3.6/site-packages (1.0.17)\nRequirement already satisfied, skipping upgrade: azureml-train==1.0.17.* in /home/nbuser/anaconda3_501/lib/python3.6/site-packages (from azureml-sdk[webservice-schema]) (1.0.17)\nRequirement already satisfied, skipping upgrade: azureml-pipeline==1.0.17.* in /home/nbuser/anaconda3_501/lib/python3.6/site-packages (from azureml-sdk[webservice-schema]) (1.0.17)\nRequirement already satisfied, skipping upgrade: azureml-core==1.0.17.* in /home/nbuser/anaconda3_501/lib/python3.6/site-packages (from azureml-sdk[webservice-schema]) (1.0.17.1)\nCollecting azureml-webservice-schema==1.0.17.*; extra == \"webservice-schema\" (from azureml-sdk[webservice-schema])\n  Using cached https://files.pythonhosted.org/packages/f8/9a/b456d118ddc0c3a399ec0ea49afe9b37ff240fab003ef956c2e83ed610cd/azureml_webservice_schema-1.0.17-py3-none-any.whl\nRequirement already satisfied, skipping upgrade: azureml-train-core==1.0.17.* in /home/nbuser/anaconda3_501/lib/python3.6/site-packages (from azureml-train==1.0.17.*->azureml-sdk[webservice-schema]) (1.0.17)\nRequirement already satisfied, skipping upgrade: azureml-pipeline-core==1.0.17.* in /home/nbuser/anaconda3_501/lib/python3.6/site-packages (from azureml-pipeline==1.0.17.*->azureml-sdk[webservice-schema]) (1.0.17)\nRequirement already satisfied, skipping upgrade: azureml-pipeline-steps==1.0.17.* in /home/nbuser/anaconda3_501/lib/python3.6/site-packages (from azureml-pipeline==1.0.17.*->azureml-sdk[webservice-schema]) (1.0.17)\nRequirement already satisfied, skipping upgrade: urllib3>=1.23 in /home/nbuser/anaconda3_501/lib/python3.6/site-packages (from azureml-core==1.0.17.*->azureml-sdk[webservice-schema]) (1.23)\nRequirement already satisfied, skipping upgrade: python-dateutil>=2.7.3 in /home/nbuser/anaconda3_501/lib/python3.6/site-packages (from azureml-core==1.0.17.*->azureml-sdk[webservice-schema]) (2.7.5)\nRequirement already satisfied, skipping upgrade: cryptography!=1.9,!=2.0.*,!=2.1.*,!=2.2.*,<2.6 in /home/nbuser/anaconda3_501/lib/python3.6/site-packages (from azureml-core==1.0.17.*->azureml-sdk[webservice-schema]) (2.3.1)\nRequirement already satisfied, skipping upgrade: docker in /home/nbuser/anaconda3_501/lib/python3.6/site-packages (from azureml-core==1.0.17.*->azureml-sdk[webservice-schema]) (3.7.0)\nRequirement already satisfied, skipping upgrade: azure-mgmt-containerregistry>=2.0.0 in /home/nbuser/anaconda3_501/lib/python3.6/site-packages (from azureml-core==1.0.17.*->azureml-sdk[webservice-schema]) (2.7.0)\nRequirement already satisfied, skipping upgrade: azure-mgmt-authorization>=0.40.0 in /home/nbuser/anaconda3_501/lib/python3.6/site-packages (from azureml-core==1.0.17.*->azureml-sdk[webservice-schema]) (0.50.0)\nRequirement already satisfied, skipping upgrade: jsonpickle in /home/nbuser/anaconda3_501/lib/python3.6/site-packages (from azureml-core==1.0.17.*->azureml-sdk[webservice-schema]) (1.1)\nRequirement already satisfied, skipping upgrade: azure-mgmt-resource>=1.2.1 in /home/nbuser/anaconda3_501/lib/python3.6/site-packages (from azureml-core==1.0.17.*->azureml-sdk[webservice-schema]) (2.0.0)\nRequirement already satisfied, skipping upgrade: msrest>=0.5.1 in /home/nbuser/anaconda3_501/lib/python3.6/site-packages (from azureml-core==1.0.17.*->azureml-sdk[webservice-schema]) (0.6.4)\nRequirement already satisfied, skipping upgrade: azure-mgmt-storage>=1.5.0 in /home/nbuser/anaconda3_501/lib/python3.6/site-packages (from azureml-core==1.0.17.*->azureml-sdk[webservice-schema]) (2.0.0)\nRequirement already satisfied, skipping upgrade: azure-common>=1.1.12 in /home/nbuser/anaconda3_501/lib/python3.6/site-packages (from azureml-core==1.0.17.*->azureml-sdk[webservice-schema]) (1.1.18)\nRequirement already satisfied, skipping upgrade: PyJWT in /home/nbuser/anaconda3_501/lib/python3.6/site-packages (from azureml-core==1.0.17.*->azureml-sdk[webservice-schema]) (1.7.1)\nRequirement already satisfied, skipping upgrade: pyopenssl in /home/nbuser/anaconda3_501/lib/python3.6/site-packages (from azureml-core==1.0.17.*->azureml-sdk[webservice-schema]) (18.0.0)\nRequirement already satisfied, skipping upgrade: msrestazure>=0.4.33 in /home/nbuser/anaconda3_501/lib/python3.6/site-packages (from azureml-core==1.0.17.*->azureml-sdk[webservice-schema]) (0.6.0)\nRequirement already satisfied, skipping upgrade: six>=1.11.0 in /home/nbuser/anaconda3_501/lib/python3.6/site-packages (from azureml-core==1.0.17.*->azureml-sdk[webservice-schema]) (1.11.0)\nRequirement already satisfied, skipping upgrade: contextlib2 in /home/nbuser/anaconda3_501/lib/python3.6/site-packages (from azureml-core==1.0.17.*->azureml-sdk[webservice-schema]) (0.5.5)\nRequirement already satisfied, skipping upgrade: backports.tempfile in /home/nbuser/anaconda3_501/lib/python3.6/site-packages (from azureml-core==1.0.17.*->azureml-sdk[webservice-schema]) (1.0)\nRequirement already satisfied, skipping upgrade: azure-mgmt-keyvault>=0.40.0 in /home/nbuser/anaconda3_501/lib/python3.6/site-packages (from azureml-core==1.0.17.*->azureml-sdk[webservice-schema]) (1.1.0)\nRequirement already satisfied, skipping upgrade: ruamel.yaml<=0.15.51,>=0.15.35 in /home/nbuser/anaconda3_501/lib/python3.6/site-packages (from azureml-core==1.0.17.*->azureml-sdk[webservice-schema]) (0.15.51)\nRequirement already satisfied, skipping upgrade: pytz in /home/nbuser/anaconda3_501/lib/python3.6/site-packages (from azureml-core==1.0.17.*->azureml-sdk[webservice-schema]) (2018.7)\nRequirement already satisfied, skipping upgrade: ndg-httpsclient in /home/nbuser/anaconda3_501/lib/python3.6/site-packages (from azureml-core==1.0.17.*->azureml-sdk[webservice-schema]) (0.5.1)\nRequirement already satisfied, skipping upgrade: SecretStorage in /home/nbuser/anaconda3_501/lib/python3.6/site-packages (from azureml-core==1.0.17.*->azureml-sdk[webservice-schema]) (2.3.1)\nRequirement already satisfied, skipping upgrade: azure-graphrbac>=0.40.0 in /home/nbuser/anaconda3_501/lib/python3.6/site-packages (from azureml-core==1.0.17.*->azureml-sdk[webservice-schema]) (0.40.0)\nRequirement already satisfied, skipping upgrade: jmespath in /home/nbuser/anaconda3_501/lib/python3.6/site-packages (from azureml-core==1.0.17.*->azureml-sdk[webservice-schema]) (0.9.3)\nRequirement already satisfied, skipping upgrade: pyyaml>=3.13 in /home/nbuser/anaconda3_501/lib/python3.6/site-packages (from azureml-core==1.0.17.*->azureml-sdk[webservice-schema]) (3.13)\nRequirement already satisfied, skipping upgrade: adal>=1.2.0 in /home/nbuser/anaconda3_501/lib/python3.6/site-packages (from azureml-core==1.0.17.*->azureml-sdk[webservice-schema]) (1.2.1)\nRequirement already satisfied, skipping upgrade: pathspec in /home/nbuser/anaconda3_501/lib/python3.6/site-packages (from azureml-core==1.0.17.*->azureml-sdk[webservice-schema]) (0.5.9)\nRequirement already satisfied, skipping upgrade: paramiko>=2.0.8 in /home/nbuser/anaconda3_501/lib/python3.6/site-packages (from azureml-core==1.0.17.*->azureml-sdk[webservice-schema]) (2.4.2)\nRequirement already satisfied, skipping upgrade: requests>=2.19.1 in /home/nbuser/anaconda3_501/lib/python3.6/site-packages (from azureml-core==1.0.17.*->azureml-sdk[webservice-schema]) (2.21.0)\nRequirement already satisfied, skipping upgrade: pandas>=0.20.2 in /home/nbuser/anaconda3_501/lib/python3.6/site-packages (from azureml-webservice-schema==1.0.17.*; extra == \"webservice-schema\"->azureml-sdk[webservice-schema]) (0.22.0)\nRequirement already satisfied, skipping upgrade: dill>=0.2.7.1 in /home/nbuser/anaconda3_501/lib/python3.6/site-packages (from azureml-webservice-schema==1.0.17.*; extra == \"webservice-schema\"->azureml-sdk[webservice-schema]) (0.2.9)\nCollecting liac-arff>=2.1.1 (from azureml-webservice-schema==1.0.17.*; extra == \"webservice-schema\"->azureml-sdk[webservice-schema])\nCollecting pyspark==2.3.1 (from azureml-webservice-schema==1.0.17.*; extra == \"webservice-schema\"->azureml-sdk[webservice-schema])\n  Using cached https://files.pythonhosted.org/packages/ee/2f/709df6e8dc00624689aa0a11c7a4c06061a7d00037e370584b9f011df44c/pyspark-2.3.1.tar.gz\nRequirement already satisfied, skipping upgrade: numpy>=1.13.0 in /home/nbuser/anaconda3_501/lib/python3.6/site-packages (from azureml-webservice-schema==1.0.17.*; extra == \"webservice-schema\"->azureml-sdk[webservice-schema]) (1.14.6)\nRequirement already satisfied, skipping upgrade: azureml-train-restclients-hyperdrive==1.0.17.* in /home/nbuser/anaconda3_501/lib/python3.6/site-packages (from azureml-train-core==1.0.17.*->azureml-train==1.0.17.*->azureml-sdk[webservice-schema]) (1.0.17)\n",
          "name": "stdout"
        },
        {
          "output_type": "stream",
          "text": "Requirement already satisfied, skipping upgrade: azureml-telemetry==1.0.17.* in /home/nbuser/anaconda3_501/lib/python3.6/site-packages (from azureml-train-core==1.0.17.*->azureml-train==1.0.17.*->azureml-sdk[webservice-schema]) (1.0.17)\nRequirement already satisfied, skipping upgrade: certifi in /home/nbuser/anaconda3_501/lib/python3.6/site-packages (from azureml-pipeline-steps==1.0.17.*->azureml-pipeline==1.0.17.*->azureml-sdk[webservice-schema]) (2018.10.15)\nRequirement already satisfied, skipping upgrade: idna>=2.1 in /home/nbuser/anaconda3_501/lib/python3.6/site-packages (from cryptography!=1.9,!=2.0.*,!=2.1.*,!=2.2.*,<2.6->azureml-core==1.0.17.*->azureml-sdk[webservice-schema]) (2.7)\nRequirement already satisfied, skipping upgrade: asn1crypto>=0.21.0 in /home/nbuser/anaconda3_501/lib/python3.6/site-packages (from cryptography!=1.9,!=2.0.*,!=2.1.*,!=2.2.*,<2.6->azureml-core==1.0.17.*->azureml-sdk[webservice-schema]) (0.24.0)\nRequirement already satisfied, skipping upgrade: cffi!=1.11.3,>=1.7 in /home/nbuser/anaconda3_501/lib/python3.6/site-packages (from cryptography!=1.9,!=2.0.*,!=2.1.*,!=2.2.*,<2.6->azureml-core==1.0.17.*->azureml-sdk[webservice-schema]) (1.11.5)\nRequirement already satisfied, skipping upgrade: docker-pycreds>=0.4.0 in /home/nbuser/anaconda3_501/lib/python3.6/site-packages (from docker->azureml-core==1.0.17.*->azureml-sdk[webservice-schema]) (0.4.0)\nRequirement already satisfied, skipping upgrade: websocket-client>=0.32.0 in /home/nbuser/anaconda3_501/lib/python3.6/site-packages (from docker->azureml-core==1.0.17.*->azureml-sdk[webservice-schema]) (0.54.0)\nRequirement already satisfied, skipping upgrade: azure-mgmt-nspkg>=2.0.0 in /home/nbuser/anaconda3_501/lib/python3.6/site-packages (from azure-mgmt-authorization>=0.40.0->azureml-core==1.0.17.*->azureml-sdk[webservice-schema]) (3.0.2)\nRequirement already satisfied, skipping upgrade: requests-oauthlib>=0.5.0 in /home/nbuser/anaconda3_501/lib/python3.6/site-packages (from msrest>=0.5.1->azureml-core==1.0.17.*->azureml-sdk[webservice-schema]) (1.2.0)\nRequirement already satisfied, skipping upgrade: isodate>=0.6.0 in /home/nbuser/anaconda3_501/lib/python3.6/site-packages (from msrest>=0.5.1->azureml-core==1.0.17.*->azureml-sdk[webservice-schema]) (0.6.0)\nRequirement already satisfied, skipping upgrade: backports.weakref in /home/nbuser/anaconda3_501/lib/python3.6/site-packages (from backports.tempfile->azureml-core==1.0.17.*->azureml-sdk[webservice-schema]) (1.0rc1)\nRequirement already satisfied, skipping upgrade: pyasn1>=0.1.1 in /home/nbuser/anaconda3_501/lib/python3.6/site-packages (from ndg-httpsclient->azureml-core==1.0.17.*->azureml-sdk[webservice-schema]) (0.4.4)\nRequirement already satisfied, skipping upgrade: azure-nspkg>=2.0.0 in /home/nbuser/anaconda3_501/lib/python3.6/site-packages (from azure-graphrbac>=0.40.0->azureml-core==1.0.17.*->azureml-sdk[webservice-schema]) (3.0.2)\nRequirement already satisfied, skipping upgrade: bcrypt>=3.1.3 in /home/nbuser/anaconda3_501/lib/python3.6/site-packages (from paramiko>=2.0.8->azureml-core==1.0.17.*->azureml-sdk[webservice-schema]) (3.1.6)\nRequirement already satisfied, skipping upgrade: pynacl>=1.0.1 in /home/nbuser/anaconda3_501/lib/python3.6/site-packages (from paramiko>=2.0.8->azureml-core==1.0.17.*->azureml-sdk[webservice-schema]) (1.3.0)\nRequirement already satisfied, skipping upgrade: chardet<3.1.0,>=3.0.2 in /home/nbuser/anaconda3_501/lib/python3.6/site-packages (from requests>=2.19.1->azureml-core==1.0.17.*->azureml-sdk[webservice-schema]) (3.0.4)\nCollecting py4j==0.10.7 (from pyspark==2.3.1->azureml-webservice-schema==1.0.17.*; extra == \"webservice-schema\"->azureml-sdk[webservice-schema])\n\u001b[33m  Retrying (Retry(total=4, connect=None, read=None, redirect=None, status=None)) after connection broken by 'ReadTimeoutError(\"HTTPSConnectionPool(host='pypi.org', port=443): Read timed out. (read timeout=15)\",)': /simple/py4j/\u001b[0m\n  Using cached https://files.pythonhosted.org/packages/e3/53/c737818eb9a7dc32a7cd4f1396e787bd94200c3997c72c1dbe028587bd76/py4j-0.10.7-py2.py3-none-any.whl\nRequirement already satisfied, skipping upgrade: applicationinsights in /home/nbuser/anaconda3_501/lib/python3.6/site-packages (from azureml-telemetry==1.0.17.*->azureml-train-core==1.0.17.*->azureml-train==1.0.17.*->azureml-sdk[webservice-schema]) (0.11.7)\nRequirement already satisfied, skipping upgrade: pycparser in /home/nbuser/anaconda3_501/lib/python3.6/site-packages (from cffi!=1.11.3,>=1.7->cryptography!=1.9,!=2.0.*,!=2.1.*,!=2.2.*,<2.6->azureml-core==1.0.17.*->azureml-sdk[webservice-schema]) (2.19)\nRequirement already satisfied, skipping upgrade: oauthlib>=3.0.0 in /home/nbuser/anaconda3_501/lib/python3.6/site-packages (from requests-oauthlib>=0.5.0->msrest>=0.5.1->azureml-core==1.0.17.*->azureml-sdk[webservice-schema]) (3.0.1)\nBuilding wheels for collected packages: pyspark\n  Building wheel for pyspark (setup.py) ... \u001b[?25ldone\n\u001b[?25h  Stored in directory: /home/nbuser/.cache/pip/wheels/37/48/54/f1b63f0dbb729e20c92f1bbcf1c53c03b300e0b93ca1781526\nSuccessfully built pyspark\nInstalling collected packages: liac-arff, py4j, pyspark, azureml-webservice-schema\nSuccessfully installed azureml-webservice-schema-1.0.17 liac-arff-2.4.0 py4j-0.10.7 pyspark-2.3.1\n",
          "name": "stdout"
        }
      ]
    },
    {
      "metadata": {
        "trusted": true
      },
      "cell_type": "code",
      "source": "import azureml.core\n\nprint(\"This notebook was created using version 1.0.17 of the Azure ML SDK\")\nprint(\"You are currently using version\", azureml.core.VERSION, \"of the Azure ML SDK\")",
      "execution_count": 1,
      "outputs": [
        {
          "output_type": "stream",
          "text": "This notebook was created using version 1.0.17 of the Azure ML SDK\nYou are currently using version 1.0.17 of the Azure ML SDK\n",
          "name": "stdout"
        }
      ]
    },
    {
      "metadata": {},
      "cell_type": "markdown",
      "source": "## Configure your Azure ML workspace\n\n### Workspace parameters\n\nTo use an AML Workspace, you will need to import the Azure ML SDK and supply the following information:\n* Your subscription id\n* A resource group name\n* (optional) The region that will host your workspace\n* A name for your workspace\n\nYou can get your subscription ID from the [Azure portal](https://portal.azure.com).\n\nYou will also need access to a [_resource group_](https://docs.microsoft.com/en-us/azure/azure-resource-manager/resource-group-overview#resource-groups), which organizes Azure resources and provides a default region for the resources in a group.  You can see what resource groups to which you have access, or create a new one in the [Azure portal](https://portal.azure.com).  If you don't have a resource group, the create workspace command will create one for you using the name you provide.\n\nThe region to host your workspace will be used if you are creating a new workspace.  You do not need to specify this if you are using an existing workspace. You can find the list of supported regions [here](https://azure.microsoft.com/en-us/global-infrastructure/services/?products=machine-learning-service).  You should pick a region that is close to your location or that contains your data.\n\nThe name for your workspace is unique within the subscription and should be descriptive enough to discern among other AML Workspaces.  The subscription may be used only by you, or it may be used by your department or your entire enterprise, so choose a name that makes sense for your situation.\n\nThe following cell allows you to specify your workspace parameters.  This cell uses the python method `os.getenv` to read values from environment variables which is useful for automation.  If no environment variable exists, the parameters will be set to the specified default values.  \n\nIf you ran the Azure Machine Learning [quickstart](https://docs.microsoft.com/en-us/azure/machine-learning/service/quickstart-get-started) in Azure Notebooks, you already have a configured workspace!  You can go to your Azure Machine Learning Getting Started library, view *config.json* file, and copy-paste the values for subscription ID, resource group and workspace name below.\n\nReplace the default values in the cell below with your workspace parameters"
    },
    {
      "metadata": {
        "trusted": true
      },
      "cell_type": "code",
      "source": "import os\n\nsubscription_id = os.getenv(\"SUBSCRIPTION_ID\", default=\"<my-subscription-id>\")\nprint(subscription_id)\nresource_group = os.getenv(\"RESOURCE_GROUP\", default=\"my-automl-workshop-rg\")\nprint(resource_group)\nworkspace_name = os.getenv(\"WORKSPACE_NAME\", default=\"my-automl-workshop-ws\")\nprint(workspace_name)\nworkspace_region = os.getenv(\"WORKSPACE_REGION\", default=\"eastus2\")\nprint(workspace_region)",
      "execution_count": null,
      "outputs": []
    },
    {
      "metadata": {},
      "cell_type": "markdown",
      "source": "### Access your workspace\n\nThe following cell uses the Azure ML SDK to attempt to load the workspace specified by your parameters.  If this cell succeeds, your notebook library will be configured to access the workspace from all notebooks using the `Workspace.from_config()` method.  The cell can fail if the specified workspace doesn't exist or you don't have permissions to access it. "
    },
    {
      "metadata": {
        "trusted": true
      },
      "cell_type": "code",
      "source": "from azureml.core import Workspace\n\ntry:\n    ws = Workspace(subscription_id = subscription_id, resource_group = resource_group, workspace_name = workspace_name)\n    # write the details of the workspace to a configuration file to the notebook library\n    ws.write_config()\n    print(\"Workspace configuration succeeded. Skip the workspace creation steps below\")\nexcept:\n    print(\"Workspace not accessible. Change your parameters or create a new workspace below\")",
      "execution_count": 6,
      "outputs": [
        {
          "output_type": "stream",
          "text": "Warning: Falling back to use azure cli login credentials.\nIf you run your code in unattended mode, i.e., where you can't give a user input, then we recommend to use ServicePrincipalAuthentication or MsiAuthentication.\nPlease refer to aka.ms/aml-notebook-auth for different authentication mechanisms in azureml-sdk.\n",
          "name": "stderr"
        },
        {
          "output_type": "stream",
          "text": "Performing interactive authentication. Please follow the instructions on the terminal.\nTo sign in, use a web browser to open the page https://microsoft.com/devicelogin and enter the code FFR89MEMB to authenticate.\nInteractive authentication successfully completed.\nWrote the config file config.json to: /home/nbuser/library/aml_config/config.json\nWorkspace configuration succeeded. Skip the workspace creation steps below\n",
          "name": "stdout"
        }
      ]
    },
    {
      "metadata": {},
      "cell_type": "markdown",
      "source": "### Create a new workspace\n\nIf you don't have an existing workspace and are the owner of the subscription or resource group, you can create a new workspace.  If you don't have a resource group, the create workspace command will create one for you using the name you provide.\n\n**Note**: As with other Azure services, there are limits on certain resources (for example AmlCompute quota) associated with the Azure ML service. Please read [this article](https://docs.microsoft.com/en-us/azure/machine-learning/service/how-to-manage-quotas) on the default limits and how to request more quota.\n\nThis cell will create an Azure ML workspace for you in a subscription provided you have the correct permissions.\n\nThis will fail if:\n* You do not have permission to create a workspace in the resource group\n* You do not have permission to create a resource group if it's non-existing.\n* You are not a subscription owner or contributor and no Azure ML workspaces have ever been created in this subscription\n\nIf workspace creation fails, please work with your IT admin to provide you with the appropriate permissions or to provision the required resources."
    },
    {
      "metadata": {
        "trusted": true
      },
      "cell_type": "code",
      "source": "from azureml.core import Workspace\n\n# Create the workspace using the specified parameters\nws = Workspace.create(name = workspace_name,\n                      subscription_id = subscription_id,\n                      resource_group = resource_group, \n                      location = workspace_region,\n                      create_resource_group = True,\n                      exist_ok = True)\nws.get_details()\n\n# write the details of the workspace to a configuration file to the notebook library\nws.write_config()",
      "execution_count": 7,
      "outputs": [
        {
          "output_type": "stream",
          "text": "Wrote the config file config.json to: /home/nbuser/library/aml_config/config.json\n",
          "name": "stdout"
        }
      ]
    },
    {
      "metadata": {},
      "cell_type": "markdown",
      "source": "# Experiment Setup\nImport packages required for the experiment"
    },
    {
      "metadata": {
        "trusted": true
      },
      "cell_type": "code",
      "source": "# Import libraries\nimport azureml.core\nimport pandas as pd\nimport numpy as np\nimport logging\nimport warnings\n# Squash warning messages for cleaner output in the notebook\nwarnings.showwarning = lambda *args, **kwargs: None\n\n\nfrom azureml.core.workspace import Workspace\nfrom azureml.core.experiment import Experiment\nfrom azureml.train.automl import AutoMLConfig\nfrom azureml.train.automl.run import AutoMLRun\nfrom matplotlib import pyplot as plt\nfrom sklearn.metrics import mean_absolute_error, mean_squared_error, r2_score",
      "execution_count": 8,
      "outputs": []
    },
    {
      "metadata": {},
      "cell_type": "markdown",
      "source": "### Verify the config file\nWe read the config.json file and verify the experiment workspace, subscription etc. are defined correctly."
    },
    {
      "metadata": {
        "trusted": true
      },
      "cell_type": "code",
      "source": "# Retrieve workspace\nws = Workspace.from_config()\n\n# choose a name for the run history container in the workspace\nexperiment_name = 'automl-energydemandforecasting'\n# project folder\nproject_folder = './sample_projects/automl-local-energydemandforecasting'\n\nexperiment = Experiment(ws, experiment_name)\n\noutput = {}\noutput['SDK version'] = azureml.core.VERSION\noutput['Subscription ID'] = ws.subscription_id\noutput['Workspace'] = ws.name\noutput['Resource Group'] = ws.resource_group\noutput['Location'] = ws.location\noutput['Project Directory'] = project_folder\noutput['Run History Name'] = experiment_name\npd.set_option('display.max_colwidth', -1)\noutputDf = pd.DataFrame(data = output, index = [''])\noutputDf.T",
      "execution_count": 9,
      "outputs": [
        {
          "output_type": "stream",
          "text": "Found the config file in: /home/nbuser/library/aml_config/config.json\n",
          "name": "stdout"
        },
        {
          "output_type": "execute_result",
          "execution_count": 9,
          "data": {
            "text/html": "<div>\n<style scoped>\n    .dataframe tbody tr th:only-of-type {\n        vertical-align: middle;\n    }\n\n    .dataframe tbody tr th {\n        vertical-align: top;\n    }\n\n    .dataframe thead th {\n        text-align: right;\n    }\n</style>\n<table border=\"1\" class=\"dataframe\">\n  <thead>\n    <tr style=\"text-align: right;\">\n      <th></th>\n      <th></th>\n    </tr>\n  </thead>\n  <tbody>\n    <tr>\n      <th>Location</th>\n      <td>eastus2</td>\n    </tr>\n    <tr>\n      <th>Project Directory</th>\n      <td>./sample_projects/automl-local-energydemandforecasting</td>\n    </tr>\n    <tr>\n      <th>Resource Group</th>\n      <td>myrg_nilesha2</td>\n    </tr>\n    <tr>\n      <th>Run History Name</th>\n      <td>automl-energydemandforecasting</td>\n    </tr>\n    <tr>\n      <th>SDK version</th>\n      <td>1.0.17</td>\n    </tr>\n    <tr>\n      <th>Subscription ID</th>\n      <td>381b38e9-9840-4719-a5a0-61d9585e1e91</td>\n    </tr>\n    <tr>\n      <th>Workspace</th>\n      <td>myws_nilesha2</td>\n    </tr>\n  </tbody>\n</table>\n</div>",
            "text/plain": "                                                                         \nLocation           eastus2                                               \nProject Directory  ./sample_projects/automl-local-energydemandforecasting\nResource Group     myrg_nilesha2                                         \nRun History Name   automl-energydemandforecasting                        \nSDK version        1.0.17                                                \nSubscription ID    381b38e9-9840-4719-a5a0-61d9585e1e91                  \nWorkspace          myws_nilesha2                                         "
          },
          "metadata": {}
        }
      ]
    },
    {
      "metadata": {},
      "cell_type": "markdown",
      "source": "# Data\nRead energy demanding data from file, and preview data."
    },
    {
      "metadata": {
        "trusted": true
      },
      "cell_type": "code",
      "source": "data = pd.read_csv(\"nyc_energy.csv\", parse_dates=['timeStamp'])\ndata.head()",
      "execution_count": 18,
      "outputs": [
        {
          "output_type": "execute_result",
          "execution_count": 18,
          "data": {
            "text/html": "<div>\n<style scoped>\n    .dataframe tbody tr th:only-of-type {\n        vertical-align: middle;\n    }\n\n    .dataframe tbody tr th {\n        vertical-align: top;\n    }\n\n    .dataframe thead th {\n        text-align: right;\n    }\n</style>\n<table border=\"1\" class=\"dataframe\">\n  <thead>\n    <tr style=\"text-align: right;\">\n      <th></th>\n      <th>timeStamp</th>\n      <th>demand</th>\n      <th>precip</th>\n      <th>temp</th>\n    </tr>\n  </thead>\n  <tbody>\n    <tr>\n      <th>0</th>\n      <td>2012-01-01 00:00:00</td>\n      <td>4937.50</td>\n      <td>0.00</td>\n      <td>46.13</td>\n    </tr>\n    <tr>\n      <th>1</th>\n      <td>2012-01-01 01:00:00</td>\n      <td>4752.10</td>\n      <td>0.00</td>\n      <td>45.89</td>\n    </tr>\n    <tr>\n      <th>2</th>\n      <td>2012-01-01 02:00:00</td>\n      <td>4542.60</td>\n      <td>0.00</td>\n      <td>45.04</td>\n    </tr>\n    <tr>\n      <th>3</th>\n      <td>2012-01-01 03:00:00</td>\n      <td>4357.70</td>\n      <td>0.00</td>\n      <td>45.03</td>\n    </tr>\n    <tr>\n      <th>4</th>\n      <td>2012-01-01 04:00:00</td>\n      <td>4275.50</td>\n      <td>0.00</td>\n      <td>42.61</td>\n    </tr>\n  </tbody>\n</table>\n</div>",
            "text/plain": "            timeStamp  demand  precip  temp\n0 2012-01-01 00:00:00 4937.50 0.00    46.13\n1 2012-01-01 01:00:00 4752.10 0.00    45.89\n2 2012-01-01 02:00:00 4542.60 0.00    45.04\n3 2012-01-01 03:00:00 4357.70 0.00    45.03\n4 2012-01-01 04:00:00 4275.50 0.00    42.61"
          },
          "metadata": {}
        }
      ]
    },
    {
      "metadata": {
        "trusted": true
      },
      "cell_type": "code",
      "source": "display(data.describe().T)\ndata.demand.hist()",
      "execution_count": 23,
      "outputs": [
        {
          "output_type": "display_data",
          "data": {
            "text/html": "<div>\n<style scoped>\n    .dataframe tbody tr th:only-of-type {\n        vertical-align: middle;\n    }\n\n    .dataframe tbody tr th {\n        vertical-align: top;\n    }\n\n    .dataframe thead th {\n        text-align: right;\n    }\n</style>\n<table border=\"1\" class=\"dataframe\">\n  <thead>\n    <tr style=\"text-align: right;\">\n      <th></th>\n      <th>count</th>\n      <th>mean</th>\n      <th>std</th>\n      <th>min</th>\n      <th>25%</th>\n      <th>50%</th>\n      <th>75%</th>\n      <th>max</th>\n    </tr>\n  </thead>\n  <tbody>\n    <tr>\n      <th>demand</th>\n      <td>49124.00</td>\n      <td>6067.45</td>\n      <td>1285.61</td>\n      <td>2859.60</td>\n      <td>5133.86</td>\n      <td>6020.07</td>\n      <td>6684.30</td>\n      <td>11456.00</td>\n    </tr>\n    <tr>\n      <th>precip</th>\n      <td>48975.00</td>\n      <td>0.00</td>\n      <td>0.02</td>\n      <td>0.00</td>\n      <td>0.00</td>\n      <td>0.00</td>\n      <td>0.00</td>\n      <td>0.91</td>\n    </tr>\n    <tr>\n      <th>temp</th>\n      <td>49019.00</td>\n      <td>55.52</td>\n      <td>17.70</td>\n      <td>0.33</td>\n      <td>41.41</td>\n      <td>56.26</td>\n      <td>70.54</td>\n      <td>97.26</td>\n    </tr>\n  </tbody>\n</table>\n</div>",
            "text/plain": "          count    mean     std     min     25%     50%     75%      max\ndemand 49124.00 6067.45 1285.61 2859.60 5133.86 6020.07 6684.30 11456.00\nprecip 48975.00 0.00    0.02    0.00    0.00    0.00    0.00    0.91    \ntemp   49019.00 55.52   17.70   0.33    41.41   56.26   70.54   97.26   "
          },
          "metadata": {}
        },
        {
          "output_type": "execute_result",
          "execution_count": 23,
          "data": {
            "text/plain": "<matplotlib.axes._subplots.AxesSubplot at 0x7fb4a8908860>"
          },
          "metadata": {}
        },
        {
          "output_type": "display_data",
          "data": {
            "image/png": "[encoded data removed]",
            "text/plain": "<Figure size 432x288 with 1 Axes>"
          },
          "metadata": {
            "needs_background": "light"
          }
        }
      ]
    },
    {
      "metadata": {},
      "cell_type": "markdown",
      "source": "## Split the data\nWe are setting aside data that is newer than Feb 1st 2017 as test data set. All the data that is older that Feb 1st 2017 is the training data."
    },
    {
      "metadata": {
        "trusted": true
      },
      "cell_type": "code",
      "source": "train = data[data['timeStamp'] < '2017-02-01']\ntest = data[data['timeStamp'] >= '2017-02-01']",
      "execution_count": 28,
      "outputs": []
    },
    {
      "metadata": {},
      "cell_type": "markdown",
      "source": "## Prepare the test data, we will feed X_test to the fitted model and get prediction"
    },
    {
      "metadata": {
        "trusted": true
      },
      "cell_type": "code",
      "source": "y_test = test.pop('demand').values\nX_test = test",
      "execution_count": 29,
      "outputs": []
    },
    {
      "metadata": {},
      "cell_type": "markdown",
      "source": "## Split the train data to train and valid\nUse one month's data as valid data"
    },
    {
      "metadata": {
        "trusted": true
      },
      "cell_type": "code",
      "source": "X_train = train[train['timeStamp'] < '2017-01-01']\nX_valid = train[train['timeStamp'] >= '2017-01-01']\ny_train = X_train.pop('demand').values\ny_valid = X_valid.pop('demand').values\nprint(X_train.shape)\nprint(y_train.shape)\nprint(X_valid.shape)\nprint(y_valid.shape)",
      "execution_count": 30,
      "outputs": [
        {
          "output_type": "stream",
          "text": "(43847, 3)\n(43847,)\n(744, 3)\n(744,)\n",
          "name": "stdout"
        }
      ]
    },
    {
      "metadata": {},
      "cell_type": "markdown",
      "source": "# Train Using Automated ML\nYou will configure automated ML and run automated ML experiment which will generate Machine Learning Models. The training jobs are run on VMs provided and managed by Azure Notebooks. \nThere are many configuration parameters you can define for your experiment. . Read more in the [documentation](https://docs.microsoft.com/en-us/azure/machine-learning/service/how-to-configure-auto-train)"
    },
    {
      "metadata": {},
      "cell_type": "markdown",
      "source": "## Configure Automated ML Experiment"
    },
    {
      "metadata": {
        "trusted": true
      },
      "cell_type": "code",
      "source": "# Set the time series column\ntime_column_name = 'timeStamp'\nautoml_settings = {\n    \"time_column_name\": time_column_name,\n}\n\n# create the configuration object\nautoml_config = AutoMLConfig(task = 'forecasting',\n                             debug_log = 'automl_nyc_energy_errors.log',\n                             primary_metric='normalized_root_mean_squared_error',\n                             iterations = 5,\n                             iteration_timeout_minutes = 10,\n                             X = X_train,\n                             y = y_train,\n                             X_valid = X_valid,\n                             y_valid = y_valid,\n                             path=project_folder,               \n                             blacklist_models = ['RandomForest'],\n                             verbosity = logging.INFO,\n                            **automl_settings)",
      "execution_count": 31,
      "outputs": []
    },
    {
      "metadata": {},
      "cell_type": "markdown",
      "source": "You can call the submit method on the experiment object and pass the run configuration. For Local runs the execution is synchronous. Depending on the data and number of iterations this can run for while.\nYou will see the currently running iterations printing to the console."
    },
    {
      "metadata": {
        "trusted": true
      },
      "cell_type": "code",
      "source": "local_run = experiment.submit(automl_config, show_output=True)",
      "execution_count": 32,
      "outputs": [
        {
          "output_type": "stream",
          "text": "Running on local machine\nParent Run ID: AutoML_2d8299a8-fca9-4923-9ed4-a565372f2b8c\n********************************************************************************************************************\nITERATION: The iteration being evaluated.\nPIPELINE: A summary description of the pipeline being evaluated.\nSAMPLING %: Percent of the training data to sample.\nDURATION: Time taken for the current iteration.\nMETRIC: The result of computing score on the fitted pipeline.\nBEST: The best observed score thus far.\n********************************************************************************************************************\n\n ITERATION   PIPELINE                                       SAMPLING %  DURATION      METRIC      BEST\n         0   StandardScalerWrapper ElasticNet               100.0000    0:00:41       0.0811    0.0811\n         1   TruncatedSVDWrapper ElasticNet                 100.0000    0:00:40       0.0823    0.0811\n         2   RobustScaler ElasticNet                        100.0000    0:00:40       0.0815    0.0811\n         3   StandardScalerWrapper ElasticNet               100.0000    0:00:32       0.0830    0.0811\n         4   Ensemble                                       100.0000    0:00:39       0.0809    0.0809\n",
          "name": "stdout"
        }
      ]
    },
    {
      "metadata": {
        "trusted": true
      },
      "cell_type": "code",
      "source": "# View the run summary\nlocal_run",
      "execution_count": 33,
      "outputs": [
        {
          "output_type": "execute_result",
          "execution_count": 33,
          "data": {
            "text/html": "<table style=\"width:100%\"><tr><th>Experiment</th><th>Id</th><th>Type</th><th>Status</th><th>Details Page</th><th>Docs Page</th></tr><tr><td>automl-energydemandforecasting</td><td>AutoML_2d8299a8-fca9-4923-9ed4-a565372f2b8c</td><td>automl</td><td>Completed</td><td><a href=\"https://mlworkspace.azure.ai/portal/subscriptions/381b38e9-9840-4719-a5a0-61d9585e1e91/resourceGroups/myrg_nilesha2/providers/Microsoft.MachineLearningServices/workspaces/myws_nilesha2/experiments/automl-energydemandforecasting/runs/AutoML_2d8299a8-fca9-4923-9ed4-a565372f2b8c\" target=\"_blank\" rel=\"noopener\">Link to Azure Portal</a></td><td><a href=\"https://docs.microsoft.com/en-us/python/api/overview/azure/ml/intro?view=azure-ml-py\" target=\"_blank\" rel=\"noopener\">Link to Documentation</a></td></tr></table>",
            "text/plain": "Run(Experiment: automl-energydemandforecasting,\nId: AutoML_2d8299a8-fca9-4923-9ed4-a565372f2b8c,\nType: automl,\nStatus: Completed)"
          },
          "metadata": {}
        }
      ]
    },
    {
      "metadata": {
        "trusted": true
      },
      "cell_type": "markdown",
      "source": "## Widget for monitoring runs"
    },
    {
      "metadata": {
        "trusted": true
      },
      "cell_type": "code",
      "source": "from azureml.widgets import RunDetails\nRunDetails(local_run).show()",
      "execution_count": 34,
      "outputs": [
        {
          "output_type": "display_data",
          "data": {
            "application/vnd.jupyter.widget-view+json": {
              "model_id": "0631c8530fd24f79aef176e180717196",
              "version_minor": 0,
              "version_major": 2
            },
            "text/plain": "_AutoMLWidget(widget_settings={'childWidgetDisplay': 'popup', 'send_telemetry': False, 'log_level': 'INFO', 's…"
          },
          "metadata": {}
        }
      ]
    },
    {
      "metadata": {},
      "cell_type": "markdown",
      "source": "## Retrieve All Child Runs"
    },
    {
      "metadata": {
        "trusted": true
      },
      "cell_type": "code",
      "source": "children = list(local_run.get_children())\nmetricslist = {}\nfor run in children:\n    properties = run.get_properties()\n    metrics = {k: v for k, v in run.get_metrics().items() if isinstance(v, float)}\n    metricslist[int(properties['iteration'])] = metrics\n\nrundata = pd.DataFrame(metricslist).sort_index(1)\nrundata",
      "execution_count": 35,
      "outputs": [
        {
          "output_type": "execute_result",
          "execution_count": 35,
          "data": {
            "text/html": "<div>\n<style scoped>\n    .dataframe tbody tr th:only-of-type {\n        vertical-align: middle;\n    }\n\n    .dataframe tbody tr th {\n        vertical-align: top;\n    }\n\n    .dataframe thead th {\n        text-align: right;\n    }\n</style>\n<table border=\"1\" class=\"dataframe\">\n  <thead>\n    <tr style=\"text-align: right;\">\n      <th></th>\n      <th>0</th>\n      <th>1</th>\n      <th>2</th>\n      <th>3</th>\n      <th>4</th>\n    </tr>\n  </thead>\n  <tbody>\n    <tr>\n      <th>explained_variance</th>\n      <td>0.25</td>\n      <td>0.23</td>\n      <td>0.27</td>\n      <td>0.22</td>\n      <td>0.26</td>\n    </tr>\n    <tr>\n      <th>mean_absolute_error</th>\n      <td>554.94</td>\n      <td>561.75</td>\n      <td>561.89</td>\n      <td>567.33</td>\n      <td>555.04</td>\n    </tr>\n    <tr>\n      <th>median_absolute_error</th>\n      <td>436.69</td>\n      <td>456.13</td>\n      <td>457.65</td>\n      <td>473.89</td>\n      <td>438.96</td>\n    </tr>\n    <tr>\n      <th>normalized_mean_absolute_error</th>\n      <td>0.06</td>\n      <td>0.07</td>\n      <td>0.07</td>\n      <td>0.07</td>\n      <td>0.06</td>\n    </tr>\n    <tr>\n      <th>normalized_median_absolute_error</th>\n      <td>0.05</td>\n      <td>0.05</td>\n      <td>0.05</td>\n      <td>0.06</td>\n      <td>0.05</td>\n    </tr>\n    <tr>\n      <th>normalized_root_mean_squared_error</th>\n      <td>0.08</td>\n      <td>0.08</td>\n      <td>0.08</td>\n      <td>0.08</td>\n      <td>0.08</td>\n    </tr>\n    <tr>\n      <th>normalized_root_mean_squared_log_error</th>\n      <td>0.09</td>\n      <td>0.09</td>\n      <td>0.09</td>\n      <td>0.09</td>\n      <td>0.09</td>\n    </tr>\n    <tr>\n      <th>r2_score</th>\n      <td>0.25</td>\n      <td>0.22</td>\n      <td>0.24</td>\n      <td>0.21</td>\n      <td>0.25</td>\n    </tr>\n    <tr>\n      <th>root_mean_squared_error</th>\n      <td>697.49</td>\n      <td>707.54</td>\n      <td>700.83</td>\n      <td>713.22</td>\n      <td>695.70</td>\n    </tr>\n    <tr>\n      <th>root_mean_squared_log_error</th>\n      <td>0.12</td>\n      <td>0.12</td>\n      <td>0.12</td>\n      <td>0.13</td>\n      <td>0.12</td>\n    </tr>\n    <tr>\n      <th>spearman_correlation</th>\n      <td>0.56</td>\n      <td>0.54</td>\n      <td>0.57</td>\n      <td>0.53</td>\n      <td>0.56</td>\n    </tr>\n  </tbody>\n</table>\n</div>",
            "text/plain": "                                            0      1      2      3      4\nexplained_variance                     0.25   0.23   0.27   0.22   0.26  \nmean_absolute_error                    554.94 561.75 561.89 567.33 555.04\nmedian_absolute_error                  436.69 456.13 457.65 473.89 438.96\nnormalized_mean_absolute_error         0.06   0.07   0.07   0.07   0.06  \nnormalized_median_absolute_error       0.05   0.05   0.05   0.06   0.05  \nnormalized_root_mean_squared_error     0.08   0.08   0.08   0.08   0.08  \nnormalized_root_mean_squared_log_error 0.09   0.09   0.09   0.09   0.09  \nr2_score                               0.25   0.22   0.24   0.21   0.25  \nroot_mean_squared_error                697.49 707.54 700.83 713.22 695.70\nroot_mean_squared_log_error            0.12   0.12   0.12   0.13   0.12  \nspearman_correlation                   0.56   0.54   0.57   0.53   0.56  "
          },
          "metadata": {}
        }
      ]
    },
    {
      "metadata": {},
      "cell_type": "markdown",
      "source": "## Retrieve the Best Model\nBelow we select the best pipeline from our iterations. The get_output method returns the best run and the fitted model. The Model includes the pipeline and any pre-processing. Overloads on get_output allow you to retrieve the best run and fitted model for any logged metric or for a particular iteration."
    },
    {
      "metadata": {
        "trusted": true
      },
      "cell_type": "code",
      "source": "best_run, fitted_model = local_run.get_output()\nprint(best_run)\nprint(fitted_model)",
      "execution_count": 36,
      "outputs": [
        {
          "output_type": "stream",
          "text": "Run(Experiment: automl-energydemandforecasting,\nId: AutoML_2d8299a8-fca9-4923-9ed4-a565372f2b8c_4,\nType: None,\nStatus: Completed)\nPipeline(memory=None,\n     steps=[('timeseriestransformer', TimeSeriesTransformer(logger=None)), ('prefittedsoftvotingregressor', PreFittedSoftVotingRegressor(estimators=[('ElasticNet', Pipeline(memory=None,\n     steps=[('standardscalerwrapper', <automl.client.core.common.model_wrappers.StandardScalerWrapper object at 0x7fb4a...ol=0.0001, warm_start=False))]))],\n               flatten_transform=None, weights=[0.2, 0.2, 0.4]))])\n",
          "name": "stdout"
        }
      ]
    },
    {
      "metadata": {},
      "cell_type": "markdown",
      "source": "## Best Model Based on Any Other Metric\nShow the run and the model that has the smallest log_loss value"
    },
    {
      "metadata": {
        "trusted": true
      },
      "cell_type": "code",
      "source": "lookup_metric = \"r2_score\"\nbest_run, fitted_model = local_run.get_output(metric = lookup_metric)\nprint(best_run)\nprint(fitted_model)",
      "execution_count": 57,
      "outputs": [
        {
          "output_type": "stream",
          "text": "Run(Experiment: automl-energydemandforecasting,\nId: AutoML_2d8299a8-fca9-4923-9ed4-a565372f2b8c_7,\nType: None,\nStatus: Completed)\nPipeline(memory=None,\n     steps=[('timeseriestransformer', TimeSeriesTransformer(logger=None)), ('standardscalerwrapper', <automl.client.core.common.model_wrappers.StandardScalerWrapper object at 0x7fb4a2a6f588>), ('lightgbmregressor', <automl.client.core.common.model_wrappers.LightGBMRegressor object at 0x7fb4a2a6fc18>)])\n",
          "name": "stdout"
        }
      ]
    },
    {
      "metadata": {},
      "cell_type": "markdown",
      "source": "# Model from a Specific Iteration\nShow the run and the model from the third iteration:"
    },
    {
      "metadata": {
        "trusted": true
      },
      "cell_type": "code",
      "source": "iteration = 3\nthird_run, third_model = local_run.get_output(iteration = iteration)\nprint(third_run)\nprint(third_model)",
      "execution_count": 38,
      "outputs": [
        {
          "output_type": "stream",
          "text": "Run(Experiment: automl-energydemandforecasting,\nId: AutoML_2d8299a8-fca9-4923-9ed4-a565372f2b8c_3,\nType: None,\nStatus: Completed)\nPipeline(memory=None,\n     steps=[('timeseriestransformer', TimeSeriesTransformer(logger=None)), ('standardscalerwrapper', <automl.client.core.common.model_wrappers.StandardScalerWrapper object at 0x7fb4a4d5ebe0>), ('elasticnet', ElasticNet(alpha=0.8422631578947368, copy_X=True, fit_intercept=True,\n      l1_ratio=0.21842105263157896, max_iter=1000, normalize=False,\n      positive=False, precompute=False, random_state=None,\n      selection='cyclic', tol=0.0001, warm_start=False))])\n",
          "name": "stdout"
        }
      ]
    },
    {
      "metadata": {},
      "cell_type": "markdown",
      "source": "## Continue experiment for more iterations (Optional)\nIf you want you can continue to run more iterations,picking up where you left off. "
    },
    {
      "metadata": {
        "trusted": true
      },
      "cell_type": "code",
      "source": "# continue training for another couple of iterations\nlocal_run.continue_experiment(X=X_train, y=y_train,X_valid = X_valid,y_valid = y_valid,iterations = 2)\nfrom azureml.widgets import RunDetails\nRunDetails(local_run).show()",
      "execution_count": 41,
      "outputs": [
        {
          "output_type": "display_data",
          "data": {
            "application/vnd.jupyter.widget-view+json": {
              "model_id": "468ec0ee5f664639b4dae81f1855e343",
              "version_minor": 0,
              "version_major": 2
            },
            "text/plain": "_AutoMLWidget(widget_settings={'childWidgetDisplay': 'popup', 'send_telemetry': False, 'log_level': 'INFO', 's…"
          },
          "metadata": {}
        }
      ]
    },
    {
      "metadata": {},
      "cell_type": "markdown",
      "source": "## Retrieve explanation for best model\nModel explainability is important to understand the features and their importance. This will retrieve the explainability of the model."
    },
    {
      "metadata": {
        "trusted": true
      },
      "cell_type": "code",
      "source": "# Commented out, please run after Workshop as takes some time\n\n#from azureml.train.automl.automlexplainer import explain_model\n#shap_values, expected_values, overall_summary, overall_imp, per_class_summary, per_class_imp = \\\n#   explain_model(fitted_model, X_train, X_test, best_run)",
      "execution_count": 2,
      "outputs": []
    },
    {
      "metadata": {},
      "cell_type": "markdown",
      "source": "# Test the Best Fitted Model\nPredict on training and test set, and calculate residual values."
    },
    {
      "metadata": {
        "trusted": true
      },
      "cell_type": "code",
      "source": "y_pred = fitted_model.predict(X_test)\ny_pred",
      "execution_count": 42,
      "outputs": [
        {
          "output_type": "execute_result",
          "execution_count": 42,
          "data": {
            "text/plain": "array([4906.67348594, 5009.79521691, 5104.69914098, ..., 6111.8636322 ,\n       6136.57378885, 6163.53755292])"
          },
          "metadata": {}
        }
      ]
    },
    {
      "metadata": {},
      "cell_type": "markdown",
      "source": "# Use the Check Data Function to remove the nan values from y_test to avoid error when calculate metrics"
    },
    {
      "metadata": {
        "trusted": true
      },
      "cell_type": "code",
      "source": "if len(y_test) != len(y_pred):\n    raise ValueError(\n        'the true values and prediction values do not have equal length.')\nelif len(y_test) == 0:\n    raise ValueError(\n        'y_true and y_pred are empty.')\n\n# if there is any non-numeric element in the y_true or y_pred,\n# the ValueError exception will be thrown.\ny_test_f = np.array(y_test).astype(float)\ny_pred_f = np.array(y_pred).astype(float)\n\n# remove entries both in y_true and y_pred where at least\n# one element in y_true or y_pred is missing\ny_test = y_test_f[~(np.isnan(y_test_f) | np.isnan(y_pred_f))]\ny_pred = y_pred_f[~(np.isnan(y_test_f) | np.isnan(y_pred_f))]",
      "execution_count": 43,
      "outputs": []
    },
    {
      "metadata": {},
      "cell_type": "markdown",
      "source": "# Plot the predictions to compare to actual data"
    },
    {
      "metadata": {
        "trusted": true
      },
      "cell_type": "code",
      "source": "print(\"[Test Data] \\nRoot Mean squared error: %.2f\" % np.sqrt(mean_squared_error(y_test, y_pred)))\n# Explained variance score: 1 is perfect prediction\nprint('mean_absolute_error score: %.2f' % mean_absolute_error(y_test, y_pred))\nprint('R2 score: %.2f' % r2_score(y_test, y_pred))\n\n# Plot outputs\ntest_pred = plt.scatter(y_test, y_pred, color='b')\ntest_test = plt.scatter(y_test, y_test, color='g')\nplt.legend((test_pred, test_test), ('prediction', 'truth'), loc='upper left', fontsize=8)\nplt.show()",
      "execution_count": 44,
      "outputs": [
        {
          "output_type": "stream",
          "text": "[Test Data] \nRoot Mean squared error: 885.01\nmean_absolute_error score: 718.49\nR2 score: 0.53\n",
          "name": "stdout"
        },
        {
          "output_type": "display_data",
          "data": {
            "image/png": "[encoded data removed]",
            "text/plain": "<Figure size 432x288 with 1 Axes>"
          },
          "metadata": {
            "needs_background": "light"
          }
        }
      ]
    },
    {
      "metadata": {},
      "cell_type": "markdown",
      "source": "# Deploy\nDeploy the model into an Azure Container Instance to enable inferencing on new data\n\n## Register the model\nRegister the best model to the AML service"
    },
    {
      "metadata": {
        "trusted": true
      },
      "cell_type": "code",
      "source": "model = local_run.register_model(description = 'automated ml model for energy demand forecasting', tags = {'ml': \"Forecasting\", 'type': \"automl\"})\nprint(local_run.model_id) # This will be written to the script file later in the notebook.",
      "execution_count": 45,
      "outputs": [
        {
          "output_type": "stream",
          "text": "Registering model AutoML2d8299a8fbest\nAutoML2d8299a8fbest\n",
          "name": "stdout"
        }
      ]
    },
    {
      "metadata": {},
      "cell_type": "markdown",
      "source": "## Create Scoring Script\nThis will be used to run the model on new data for predictions"
    },
    {
      "metadata": {
        "trusted": true
      },
      "cell_type": "code",
      "source": "%%writefile score_energy_demand.py\nimport pickle\nimport json\nimport numpy as np\nimport azureml.train.automl\nfrom sklearn.externals import joblib\nfrom azureml.core.model import Model\n\n\ndef init():\n    global model\n    model_path = Model.get_model_path(model_name = '<<modelid>>') # this name is model.id of model that we want to deploy\n    # deserialize the model file back into a sklearn model\n    model = joblib.load(model_path)\n\ndef run(timestamp,precip,temp):\n    try:\n        rawdata = json.dumps({timestamp, precip, temp})\n        data = json.loads(rawdata)\n        data_arr = numpy.array(data)\n        result = model.predict(data_arr)\n        # result = json.dumps({'timeStamp':timestamp, 'precip':precip, 'temp':temp})\n    except Exception as e:\n        result = str(e)\n        return json.dumps({\"error\": result})\n    return json.dumps({\"result\":result.tolist()})",
      "execution_count": 46,
      "outputs": [
        {
          "output_type": "stream",
          "text": "Overwriting score_energy_demand.py\n",
          "name": "stdout"
        }
      ]
    },
    {
      "metadata": {},
      "cell_type": "markdown",
      "source": "## Create a YAML File for the Environment¶ \nThe YAML file will be used to setup the conda environment on the deployed image"
    },
    {
      "metadata": {
        "trusted": true
      },
      "cell_type": "code",
      "source": "# Retrieve the dependencies\nexperiment = Experiment(ws, experiment_name)\nml_run = AutoMLRun(experiment = experiment, run_id = local_run.id)\ndependencies = ml_run.get_run_sdk_dependencies(iteration = 0)\nfor p in ['azureml-train-automl', 'azureml-sdk', 'azureml-core']:\n    print('{}\\t{}'.format(p, dependencies[p]))",
      "execution_count": 47,
      "outputs": [
        {
          "output_type": "stream",
          "text": "No issues found in the SDK package versions.\nazureml-train-automl\t1.0.17.1\nazureml-sdk\t1.0.17\nazureml-core\t1.0.17.1\n",
          "name": "stdout"
        }
      ]
    },
    {
      "metadata": {
        "trusted": true
      },
      "cell_type": "code",
      "source": "# Create the environment file\n\nfrom azureml.core.conda_dependencies import CondaDependencies \n\nmyenv = CondaDependencies.create(conda_packages=['numpy','scikit-learn'], pip_packages=[\"azureml-train-automl\"])\nprint(myenv.serialize_to_string())\n\nconda_env_file_name = 'my_conda_env.yml'\nmyenv.save_to_file('.', conda_env_file_name)",
      "execution_count": 48,
      "outputs": [
        {
          "output_type": "stream",
          "text": "# Conda environment specification. The dependencies defined in this file will\r\n# be automatically provisioned for runs with userManagedDependencies=False.\r\n\n# Details about the Conda environment file format:\r\n# https://conda.io/docs/user-guide/tasks/manage-environments.html#create-env-file-manually\r\n\nname: project_environment\ndependencies:\n  # The python interpreter version.\r\n  # Currently Azure ML only supports 3.5.2 and later.\r\n- python=3.6.2\n\n- pip:\n  - azureml-train-automl==1.0.17\n- numpy\n- scikit-learn\n\n",
          "name": "stdout"
        },
        {
          "output_type": "execute_result",
          "execution_count": 48,
          "data": {
            "text/plain": "'my_conda_env.yml'"
          },
          "metadata": {}
        }
      ]
    },
    {
      "metadata": {
        "trusted": true
      },
      "cell_type": "code",
      "source": "# Substitute the actual version number in the environment file.\n# This is not strictly needed in this notebook because the model should have been generated using the current SDK version.\n# However, we include this in case this code is used on an experiment from a previous SDK version.\n\nwith open(conda_env_file_name, 'r') as cefr:\n    content = cefr.read()\n\nwith open(conda_env_file_name, 'w') as cefw:\n    cefw.write(content.replace(azureml.core.VERSION, dependencies['azureml-sdk']))\n\n# Substitute the actual model id in the script file.\n\nscript_file_name = 'score_energy_demand.py'\n\nwith open(script_file_name, 'r') as cefr:\n    content = cefr.read()\n\nwith open(script_file_name, 'w') as cefw:\n    cefw.write(content.replace('<<modelid>>', local_run.model_id))",
      "execution_count": 49,
      "outputs": []
    },
    {
      "metadata": {},
      "cell_type": "markdown",
      "source": "## Generate schema file\nSchema file is used to define the deployed web service REST API, so it is consumable from \"Swagger enabled\" services, such as Power BI"
    },
    {
      "metadata": {
        "trusted": true
      },
      "cell_type": "code",
      "source": "from azureml.webservice_schema.sample_definition import SampleDefinition\nfrom azureml.webservice_schema.data_types import DataTypes\nfrom azureml.webservice_schema.schema_generation import generate_schema\n\nschema_file_name = './schema.json'\ndef run(timestamp,precip,temp):\n    return \"OK\"\n\nimport numpy as np\ngenerate_schema(run, inputs={\n    \"timestamp\" : SampleDefinition(DataTypes.STANDARD, '2012-01-01 00:00:00'),\n    \"precip\" : SampleDefinition(DataTypes.STANDARD, '0.0'),\n    \"temp\" : SampleDefinition(DataTypes.STANDARD, '0.0')}, \n    filepath=schema_file_name)",
      "execution_count": 50,
      "outputs": [
        {
          "output_type": "execute_result",
          "execution_count": 50,
          "data": {
            "text/plain": "{'input': {'timestamp': {'internal': 'gANjYXp1cmVtbC53ZWJzZXJ2aWNlX3NjaGVtYS5fcHl0aG9uX3V0aWwKUHl0aG9uU2NoZW1hCnEAKYFxAX1xAlgJAAAAZGF0YV90eXBlcQNjYnVpbHRpbnMKc3RyCnEEc2Iu',\n   'swagger': {'type': 'string', 'example': '2012-01-01 00:00:00'},\n   'type': 0,\n   'version': '1.0.17'},\n  'precip': {'internal': 'gANjYXp1cmVtbC53ZWJzZXJ2aWNlX3NjaGVtYS5fcHl0aG9uX3V0aWwKUHl0aG9uU2NoZW1hCnEAKYFxAX1xAlgJAAAAZGF0YV90eXBlcQNjYnVpbHRpbnMKc3RyCnEEc2Iu',\n   'swagger': {'type': 'string', 'example': '0.0'},\n   'type': 0,\n   'version': '1.0.17'},\n  'temp': {'internal': 'gANjYXp1cmVtbC53ZWJzZXJ2aWNlX3NjaGVtYS5fcHl0aG9uX3V0aWwKUHl0aG9uU2NoZW1hCnEAKYFxAX1xAlgJAAAAZGF0YV90eXBlcQNjYnVpbHRpbnMKc3RyCnEEc2Iu',\n   'swagger': {'type': 'string', 'example': '0.0'},\n   'type': 0,\n   'version': '1.0.17'}}}"
          },
          "metadata": {}
        }
      ]
    },
    {
      "metadata": {},
      "cell_type": "markdown",
      "source": "## Create a Docker file to include extra dependencies in the image\nThe container image will be based on the model and is used to deploy the container instance"
    },
    {
      "metadata": {
        "trusted": true
      },
      "cell_type": "code",
      "source": "%%writefile docker_steps.dockerfile\nRUN apt-get update && \\\n    apt-get upgrade -y && \\\n    apt-get install -y build-essential gcc g++ python-dev unixodbc unixodbc-dev",
      "execution_count": 51,
      "outputs": [
        {
          "output_type": "stream",
          "text": "Overwriting docker_steps.dockerfile\n",
          "name": "stdout"
        }
      ]
    },
    {
      "metadata": {
        "trusted": true
      },
      "cell_type": "code",
      "source": "docker_file_name = \"docker_steps.dockerfile\"",
      "execution_count": 52,
      "outputs": []
    },
    {
      "metadata": {},
      "cell_type": "markdown",
      "source": "## Create a Container Image\nThe container image will be based on the model and is used to deploy the container instance"
    },
    {
      "metadata": {
        "trusted": true
      },
      "cell_type": "code",
      "source": "from azureml.core.image import Image, ContainerImage\n\nimage_config = ContainerImage.image_configuration(runtime= \"python\",\n                                 execution_script = script_file_name,\n                                 docker_file = docker_file_name,\n                                 schema_file = schema_file_name,\n                                 conda_file = conda_env_file_name,\n                                 tags = {'ml': \"Forecasting\", 'type': \"automl\"},\n                                 description = \"Image for automated ml energy demand forecasting predictions\")\n\nimage = Image.create(name = \"automlenergyforecasting\",\n                     models = [model],\n                     image_config = image_config, \n                     workspace = ws)\n\nimage.wait_for_creation(show_output = True)",
      "execution_count": 52,
      "outputs": [
        {
          "output_type": "stream",
          "text": "Creating image\nRunning.............................................................................\nSucceededImage creation operation finished for image automlenergyforecasting:4, operation \"Succeeded\"\n",
          "name": "stdout"
        }
      ]
    },
    {
      "metadata": {},
      "cell_type": "markdown",
      "source": "## Deploy the Image as a Web Service on Azure Container Instance"
    },
    {
      "metadata": {
        "trusted": true
      },
      "cell_type": "code",
      "source": "from azureml.core.webservice import AciWebservice\n\naciconfig = AciWebservice.deploy_configuration(cpu_cores = 1, \n                                               memory_gb = 1, \n                                               tags = {'ml': \"Forecasting\", 'type': \"automl\"}, \n                                               description = 'ACI service for automated ml energy demand forecasting predictions')",
      "execution_count": 54,
      "outputs": []
    },
    {
      "metadata": {
        "trusted": true
      },
      "cell_type": "code",
      "source": "from azureml.core.webservice import Webservice\n\naci_service_name = 'automlenergyforecasting1'\nprint(aci_service_name)\naci_service = Webservice.deploy_from_image(deployment_config = aciconfig,\n                                           image = image,\n                                           name = aci_service_name,\n                                           workspace = ws)\naci_service.wait_for_deployment(True)\nprint(aci_service.state)",
      "execution_count": 61,
      "outputs": [
        {
          "output_type": "stream",
          "text": "automlenergyforecasting1\nCreating service\nRunning.................................................\nFailedACI service creation operation finished, operation \"Failed\"\nService creation polling reached terminal state, current service state: Failed\n{\n  \"code\": \"AciDeploymentFailed\",\n  \"message\": \"Aci Deployment failed with exception: Your container application crashed. This may be caused by errors in your scoring file's init() function.\\nPlease check the logs for your container instance automlenergyforecasting1.\\nYou can also try to run image mywsnileacrrgpoupjx.azurecr.io/automlenergyforecasting:4 locally. Please refer to http://aka.ms/debugimage for more information.\",\n  \"details\": [\n    {\n      \"code\": \"AciDeploymentFailed\",\n      \"message\": \"Aci Deployment failed with exception: {\\\"code\\\":\\\"AciDeploymentFailed\\\",\\\"message\\\":\\\"Aci Deployment failed with exception: Your container application crashed. This may be caused by errors in your scoring file's init() function.\\\\nPlease check the logs for your container instance automlenergyforecasting1.\\\\nYou can also try to run image mywsnileacrrgpoupjx.azurecr.io/automlenergyforecasting:4 locally. Please refer to http://aka.ms/debugimage for more information.\\\",\\\"details\\\":[{\\\"code\\\":\\\"CrashLoopBackOff\\\",\\\"message\\\":\\\"Your container application crashed. This may be caused by errors in your scoring file's init() function.\\\\nPlease check the logs for your container instance automlenergyforecasting1.\\\\nYou can also try to run image mywsnileacrrgpoupjx.azurecr.io/automlenergyforecasting:4 locally. Please refer to http://aka.ms/debugimage for more information.\\\"}]}\"\n    },\n    {\n      \"code\": \"StackTrace\",\n      \"message\": \"   at Microsoft.MachineLearning.ModelManagement.Common.Services.AsyncOperations.Services.AciServicePollTask.<Run>d__10.MoveNext() in /home/vsts/work/1/s/src/Product/Common/Services/Common.Services/AsyncOperations/Services/AciServicePollTask.cs:line 93\\n--- End of stack trace from previous location where exception was thrown ---\\n   at System.Runtime.ExceptionServices.ExceptionDispatchInfo.Throw()\\n   at System.Runtime.CompilerServices.TaskAwaiter.HandleNonSuccessAndDebuggerNotification(Task task)\\n   at Microsoft.MachineLearning.Common.AsyncOperationsFramework.WorkflowGrain.<>c__DisplayClass17_0.<<MainTask>b__0>d.MoveNext()\"\n    }\n  ]\n}\nFailed\n",
          "name": "stdout"
        }
      ]
    },
    {
      "metadata": {},
      "cell_type": "markdown",
      "source": "# Recap\n\nIn this workshop we have successfully\n* Imported a CSV file for training \n* Split the data for test and validation\n* Configured an automated ML experiment\n* Run an automated ML experiment\n* Reviewed the results\n* Taken the best best model and plotted predications\n* Deployed a model as a web service ready to make new inferences"
    },
    {
      "metadata": {
        "trusted": true
      },
      "cell_type": "markdown",
      "source": "# Resources\nAutomated ML & Azure Machine Learning Resources\n\n* AskAutomatedML@microsoft.com\n* https://aka.ms/AutomatedML\n* https://aka.ms/AutomatedMLDocs\n* https://github.com/Azure/MachineLearningNotebooks"
    }
  ],
  "metadata": {
    "kernelspec": {
      "name": "python36",
      "display_name": "Python 3.6",
      "language": "python"
    },
    "language_info": {
      "mimetype": "text/x-python",
      "nbconvert_exporter": "python",
      "name": "python",
      "pygments_lexer": "ipython3",
      "version": "3.6.6",
      "file_extension": ".py",
      "codemirror_mode": {
        "version": 3,
        "name": "ipython"
      }
    }
  },
  "nbformat": 4,
  "nbformat_minor": 2
}